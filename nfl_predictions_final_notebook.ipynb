{
 "cells": [
  {
   "cell_type": "markdown",
   "metadata": {
    "slideshow": {
     "slide_type": "slide"
    }
   },
   "source": [
    "# NFL Predictions\n",
    "\n",
    "## University of Denver Data Analytics Bootcamp\n",
    "\n",
    "### August 7, 2019\n",
    "\n",
    "**Presenters:**\n",
    "\n",
    "* Tai Johnson\n",
    "* Seth Oliver\n",
    "* Matthew Stewart\n",
    "\n",
    "---"
   ]
  },
  {
   "cell_type": "markdown",
   "metadata": {
    "slideshow": {
     "slide_type": "slide"
    }
   },
   "source": [
    "## Purpose\n",
    "\n",
    "The purpose of this project was to use machine learning to build a predictor for the outcomes of NFL matchups.  This was a classification problem, where the possible outcomes (classes) of results were Win, Lose, and Draw.\n",
    "\n",
    "We extracted our data from the data sources listed below and cleaned the data using both Microsoft Excel and Python Pandas.  Finally, we built classification models using Logistic Regression, SVM, and Deep Learning; we then analyzed and visualized the results of these models.\n",
    "\n",
    "### Data Sources\n",
    "\n",
    "[NFL Historic Matchups](https://www.kaggle.com/tobycrabtree/nfl-scores-and-betting-data/home#spreadspoke_scores.csv)  \n",
    "[NFL Stadium Info](https://www.kaggle.com/tobycrabtree/nfl-scores-and-betting-data/home#nfl_stadiums.csv)  \n",
    "\n",
    "---"
   ]
  },
  {
   "cell_type": "markdown",
   "metadata": {
    "slideshow": {
     "slide_type": "slide"
    }
   },
   "source": [
    "## Agenda\n",
    "\n",
    "### -- Data Processing\n",
    "\n",
    "### -- Initial Functions and Correlation Analysis\n",
    "\n",
    "### -- Logistic Regression\n",
    "\n",
    "### -- Support Vector Machine\n",
    "\n",
    "### -- Deep Learning\n",
    "\n",
    "### -- Conclusion"
   ]
  },
  {
   "cell_type": "markdown",
   "metadata": {
    "slideshow": {
     "slide_type": "slide"
    }
   },
   "source": [
    "# 1.  Data Processing"
   ]
  },
  {
   "cell_type": "markdown",
   "metadata": {
    "slideshow": {
     "slide_type": "subslide"
    }
   },
   "source": [
    "## Dataset One:  NFL Historic Matchup\n",
    "\n",
    "![alt text](Images/nfl_scores.png \"NFL Historic Matchups\")"
   ]
  },
  {
   "cell_type": "markdown",
   "metadata": {
    "slideshow": {
     "slide_type": "subslide"
    }
   },
   "source": [
    "## Dataset Two: NFL Stadiums\n",
    "\n",
    "![alt text](Images/nfl_stadiums.png \"NFL Stadiums\")"
   ]
  },
  {
   "cell_type": "markdown",
   "metadata": {
    "slideshow": {
     "slide_type": "subslide"
    }
   },
   "source": [
    "## Combined Datasets\n",
    "\n",
    "### Added stadium information to Dataset One using VLOOKUP\n",
    "\n",
    "![alt text](Images/nfl_datasets_combined.png \"NFL Datasets Combined\")"
   ]
  },
  {
   "cell_type": "markdown",
   "metadata": {
    "slideshow": {
     "slide_type": "subslide"
    }
   },
   "source": [
    "## Encoded Dataset\n",
    "\n",
    "#### -- Added Game ID\n",
    "#### -- Duplicated Dataset\n",
    "#### -- Sorted By Game ID\n",
    "#### -- One Hot Encoded\n",
    "\n",
    "![alt text](Images/nfl_datasets_encoded.png \"NFL Datasets Encoded\")"
   ]
  },
  {
   "cell_type": "markdown",
   "metadata": {
    "slideshow": {
     "slide_type": "subslide"
    }
   },
   "source": [
    "## Encoding Breakdown\n",
    "\n",
    "#### -- Team\n",
    "#### -- Home/Away\n",
    "#### -- Favorite to Win/Lose\n",
    "#### -- Stadium Indoors/Outdoors/Retractable\n",
    "#### -- Stadium Neutral True/False\n",
    "#### -- Weather Temperature (Bins of <32, 32-80, >80)\n",
    "#### -- Wind Speed (Bins of <15, >=15)\n",
    "#### -- Win/Lose/Draw\n",
    "  \n",
    "  \n",
    "## Did not encode Point Spread prediction\n",
    "\n",
    "#### *(Win Favorite => negative and Lose Favorite => positive)*"
   ]
  },
  {
   "cell_type": "markdown",
   "metadata": {
    "slideshow": {
     "slide_type": "subslide"
    }
   },
   "source": [
    "## Cumulative Win Percentages\n",
    "\n",
    "### -- Sorted by Season > Team > Date\n",
    "### -- Switched to Python to iterrate and calculate cumulative win percentages by Season\n",
    "### -- Exported to .csv and used Excel to calculate opponents' win percentages by Season"
   ]
  },
  {
   "cell_type": "markdown",
   "metadata": {
    "slideshow": {
     "slide_type": "subslide"
    }
   },
   "source": [
    "![alt text](Images/nfl_datasets_pre_win_percent.png \"NFL Datasets Sorted\")"
   ]
  },
  {
   "cell_type": "markdown",
   "metadata": {
    "slideshow": {
     "slide_type": "subslide"
    }
   },
   "source": [
    "![alt text](Images/pandas_win_percent_calc.png \"Pandas Win Percent Calc\")"
   ]
  },
  {
   "cell_type": "markdown",
   "metadata": {
    "slideshow": {
     "slide_type": "subslide"
    }
   },
   "source": [
    "![alt text](Images/nfl_dataset_final.png \"Final NFL Dataset\")"
   ]
  },
  {
   "cell_type": "markdown",
   "metadata": {
    "slideshow": {
     "slide_type": "slide"
    }
   },
   "source": [
    "## Vegas Benchmark Success Rate:  66.02%\n",
    "\n",
    "### -- With final dataset, we had the count of games that had a Vegas prediction and the results of those games\n",
    "\n",
    "### -- Total count:  19,578\n",
    "\n",
    "### -- Successful predictions:  12,924\n",
    "\n",
    "### -- Success / Total = 0.6602"
   ]
  },
  {
   "cell_type": "markdown",
   "metadata": {
    "slideshow": {
     "slide_type": "slide"
    }
   },
   "source": [
    "# 2.  Initial Functions and Correlation Analysis"
   ]
  },
  {
   "cell_type": "code",
   "execution_count": 1,
   "metadata": {
    "slideshow": {
     "slide_type": "skip"
    }
   },
   "outputs": [],
   "source": [
    "# Import dependencies\n",
    "%matplotlib inline\n",
    "import matplotlib.pyplot as plt\n",
    "import pandas as pd\n",
    "import numpy as np\n",
    "import os"
   ]
  },
  {
   "cell_type": "code",
   "execution_count": 2,
   "metadata": {
    "slideshow": {
     "slide_type": "skip"
    }
   },
   "outputs": [],
   "source": [
    "# Ignore warnings\n",
    "import warnings\n",
    "warnings.filterwarnings('ignore')"
   ]
  },
  {
   "cell_type": "markdown",
   "metadata": {
    "slideshow": {
     "slide_type": "slide"
    }
   },
   "source": [
    "## Confusion Matrix Visualization Function\n",
    "\n",
    "### -- Confusion matrix useful visualization for classification problem\n",
    "### -- Multiple visualizations => function call"
   ]
  },
  {
   "cell_type": "code",
   "execution_count": 3,
   "metadata": {
    "slideshow": {
     "slide_type": "subslide"
    }
   },
   "outputs": [],
   "source": [
    "# Function for preparing a confusion matrix\n",
    "# This function will be used in the confusion matrix visualizations below\n",
    "# IMPORTANT:  Before calling this function, you should use fig = plt.figure(figsize = (w,h))\n",
    "# IMPORTANT:  After calling this function, you still have to type plt.show().\n",
    "# This is so that you can use multiple subplots in a single figure.\n",
    "\n",
    "def prep_confusion_visual(dataframe, subplot_nums, score, title):\n",
    "    names = dataframe.columns\n",
    "    ax = fig.add_subplot(subplot_nums)\n",
    "    cax = ax.matshow(dataframe, cmap=plt.get_cmap('autumn'))\n",
    "    fig.colorbar(cax)\n",
    "    \n",
    "    ticks = np.arange(0,len(dataframe.columns),1)\n",
    "    ax.set_xticks(ticks)\n",
    "    ax.set_yticks(ticks)\n",
    "    ax.set_xticklabels(dataframe.columns, rotation = 90, fontsize = 10)\n",
    "    ax.set_yticklabels(dataframe.columns, fontsize = 10)\n",
    "\n",
    "    score_formatted = \"{:.2%}\".format(score)\n",
    "     \n",
    "    plt.title(f'''\n",
    "    {title}\n",
    "\n",
    "    Score: {score_formatted}\n",
    "    ''', y=1.12, fontsize = 16, fontweight='bold')\n",
    "    plt.xlabel('Predicted', fontweight='bold', fontsize = 14)\n",
    "    ax.xaxis.set_label_position('top')\n",
    "    plt.ylabel('Actual', fontweight='bold', fontsize = 14)\n",
    "\n",
    "    for i in range(len(dataframe.columns)):\n",
    "        for j in range(len(dataframe.columns)):\n",
    "            text = ax.text(j, i, dataframe.iloc[i, j],\n",
    "                           ha=\"center\", va=\"center\", color=\"black\", fontsize = 14)"
   ]
  },
  {
   "cell_type": "markdown",
   "metadata": {
    "slideshow": {
     "slide_type": "slide"
    }
   },
   "source": [
    "## Read Data/Split into Training and Testing Sets\n",
    "\n",
    "### -- Did not want randomization when splitting into training and testing sets\n",
    "### -- Did not use train_test_split\n",
    "### -- Training Data = Years 2009-2016\n",
    "### -- Testing Data = Years 2017-2018"
   ]
  },
  {
   "cell_type": "code",
   "execution_count": 4,
   "metadata": {
    "slideshow": {
     "slide_type": "subslide"
    }
   },
   "outputs": [
    {
     "data": {
      "text/html": [
       "<div>\n",
       "<style scoped>\n",
       "    .dataframe tbody tr th:only-of-type {\n",
       "        vertical-align: middle;\n",
       "    }\n",
       "\n",
       "    .dataframe tbody tr th {\n",
       "        vertical-align: top;\n",
       "    }\n",
       "\n",
       "    .dataframe thead th {\n",
       "        text-align: right;\n",
       "    }\n",
       "</style>\n",
       "<table border=\"1\" class=\"dataframe\">\n",
       "  <thead>\n",
       "    <tr style=\"text-align: right;\">\n",
       "      <th></th>\n",
       "      <th>Game ID</th>\n",
       "      <th>schedule_date</th>\n",
       "      <th>schedule_season</th>\n",
       "      <th>schedule_week</th>\n",
       "      <th>schedule_week_clean</th>\n",
       "      <th>schedule_playoff</th>\n",
       "      <th>team</th>\n",
       "      <th>team_id</th>\n",
       "      <th>cumulative_win_percent</th>\n",
       "      <th>cum_win_25</th>\n",
       "      <th>...</th>\n",
       "      <th>weather_wind_mph</th>\n",
       "      <th>wind_below_15</th>\n",
       "      <th>wind_GTE_15</th>\n",
       "      <th>win_lose_draw</th>\n",
       "      <th>stadium</th>\n",
       "      <th>stadium_surface</th>\n",
       "      <th>weather_humidity</th>\n",
       "      <th>weather_detail</th>\n",
       "      <th>vegas_success</th>\n",
       "      <th>vegas_success_rate</th>\n",
       "    </tr>\n",
       "  </thead>\n",
       "  <tbody>\n",
       "    <tr>\n",
       "      <th>0</th>\n",
       "      <td>1</td>\n",
       "      <td>9/2/1966</td>\n",
       "      <td>1966</td>\n",
       "      <td>1</td>\n",
       "      <td>1</td>\n",
       "      <td>False</td>\n",
       "      <td>Miami Dolphins</td>\n",
       "      <td>MIA</td>\n",
       "      <td>0.5</td>\n",
       "      <td>0</td>\n",
       "      <td>...</td>\n",
       "      <td>6.0</td>\n",
       "      <td>1</td>\n",
       "      <td>0</td>\n",
       "      <td>1</td>\n",
       "      <td>Orange Bowl</td>\n",
       "      <td>0</td>\n",
       "      <td>71</td>\n",
       "      <td>NaN</td>\n",
       "      <td>NaN</td>\n",
       "      <td>0.660162</td>\n",
       "    </tr>\n",
       "    <tr>\n",
       "      <th>1</th>\n",
       "      <td>1</td>\n",
       "      <td>9/2/1966</td>\n",
       "      <td>1966</td>\n",
       "      <td>1</td>\n",
       "      <td>1</td>\n",
       "      <td>False</td>\n",
       "      <td>Oakland Raiders</td>\n",
       "      <td>OAK</td>\n",
       "      <td>0.5</td>\n",
       "      <td>0</td>\n",
       "      <td>...</td>\n",
       "      <td>6.0</td>\n",
       "      <td>1</td>\n",
       "      <td>0</td>\n",
       "      <td>0</td>\n",
       "      <td>Orange Bowl</td>\n",
       "      <td>0</td>\n",
       "      <td>71</td>\n",
       "      <td>NaN</td>\n",
       "      <td>NaN</td>\n",
       "      <td>NaN</td>\n",
       "    </tr>\n",
       "    <tr>\n",
       "      <th>2</th>\n",
       "      <td>2</td>\n",
       "      <td>9/3/1966</td>\n",
       "      <td>1966</td>\n",
       "      <td>1</td>\n",
       "      <td>1</td>\n",
       "      <td>False</td>\n",
       "      <td>Denver Broncos</td>\n",
       "      <td>DEN</td>\n",
       "      <td>0.5</td>\n",
       "      <td>0</td>\n",
       "      <td>...</td>\n",
       "      <td>7.0</td>\n",
       "      <td>1</td>\n",
       "      <td>0</td>\n",
       "      <td>1</td>\n",
       "      <td>Rice Stadium</td>\n",
       "      <td>Grass</td>\n",
       "      <td>70</td>\n",
       "      <td>NaN</td>\n",
       "      <td>NaN</td>\n",
       "      <td>NaN</td>\n",
       "    </tr>\n",
       "    <tr>\n",
       "      <th>3</th>\n",
       "      <td>2</td>\n",
       "      <td>9/3/1966</td>\n",
       "      <td>1966</td>\n",
       "      <td>1</td>\n",
       "      <td>1</td>\n",
       "      <td>False</td>\n",
       "      <td>Houston Oilers</td>\n",
       "      <td>TEN</td>\n",
       "      <td>0.5</td>\n",
       "      <td>0</td>\n",
       "      <td>...</td>\n",
       "      <td>7.0</td>\n",
       "      <td>1</td>\n",
       "      <td>0</td>\n",
       "      <td>0</td>\n",
       "      <td>Rice Stadium</td>\n",
       "      <td>Grass</td>\n",
       "      <td>70</td>\n",
       "      <td>NaN</td>\n",
       "      <td>NaN</td>\n",
       "      <td>NaN</td>\n",
       "    </tr>\n",
       "    <tr>\n",
       "      <th>4</th>\n",
       "      <td>3</td>\n",
       "      <td>9/4/1966</td>\n",
       "      <td>1966</td>\n",
       "      <td>1</td>\n",
       "      <td>1</td>\n",
       "      <td>False</td>\n",
       "      <td>Buffalo Bills</td>\n",
       "      <td>BUF</td>\n",
       "      <td>0.5</td>\n",
       "      <td>0</td>\n",
       "      <td>...</td>\n",
       "      <td>7.0</td>\n",
       "      <td>1</td>\n",
       "      <td>0</td>\n",
       "      <td>1</td>\n",
       "      <td>Balboa Stadium</td>\n",
       "      <td>Grass</td>\n",
       "      <td>82</td>\n",
       "      <td>NaN</td>\n",
       "      <td>NaN</td>\n",
       "      <td>NaN</td>\n",
       "    </tr>\n",
       "  </tbody>\n",
       "</table>\n",
       "<p>5 rows × 87 columns</p>\n",
       "</div>"
      ],
      "text/plain": [
       "   Game ID schedule_date  schedule_season schedule_week  schedule_week_clean  \\\n",
       "0        1      9/2/1966             1966             1                    1   \n",
       "1        1      9/2/1966             1966             1                    1   \n",
       "2        2      9/3/1966             1966             1                    1   \n",
       "3        2      9/3/1966             1966             1                    1   \n",
       "4        3      9/4/1966             1966             1                    1   \n",
       "\n",
       "   schedule_playoff             team team_id  cumulative_win_percent  \\\n",
       "0             False   Miami Dolphins     MIA                     0.5   \n",
       "1             False  Oakland Raiders     OAK                     0.5   \n",
       "2             False   Denver Broncos     DEN                     0.5   \n",
       "3             False   Houston Oilers     TEN                     0.5   \n",
       "4             False    Buffalo Bills     BUF                     0.5   \n",
       "\n",
       "   cum_win_25         ...          weather_wind_mph  wind_below_15  \\\n",
       "0           0         ...                       6.0              1   \n",
       "1           0         ...                       6.0              1   \n",
       "2           0         ...                       7.0              1   \n",
       "3           0         ...                       7.0              1   \n",
       "4           0         ...                       7.0              1   \n",
       "\n",
       "   wind_GTE_15  win_lose_draw         stadium  stadium_surface  \\\n",
       "0            0              1     Orange Bowl                0   \n",
       "1            0              0     Orange Bowl                0   \n",
       "2            0              1    Rice Stadium            Grass   \n",
       "3            0              0    Rice Stadium            Grass   \n",
       "4            0              1  Balboa Stadium            Grass   \n",
       "\n",
       "   weather_humidity  weather_detail  vegas_success  vegas_success_rate  \n",
       "0                71             NaN            NaN            0.660162  \n",
       "1                71             NaN            NaN                 NaN  \n",
       "2                70             NaN            NaN                 NaN  \n",
       "3                70             NaN            NaN                 NaN  \n",
       "4                82             NaN            NaN                 NaN  \n",
       "\n",
       "[5 rows x 87 columns]"
      ]
     },
     "execution_count": 4,
     "metadata": {},
     "output_type": "execute_result"
    }
   ],
   "source": [
    "# Read in dataset\n",
    "games = pd.read_csv('Resources/nfl_data_with_final_win_percentages_plus_opp.csv')\n",
    "games.head()"
   ]
  },
  {
   "cell_type": "code",
   "execution_count": 5,
   "metadata": {
    "slideshow": {
     "slide_type": "subslide"
    }
   },
   "outputs": [],
   "source": [
    "# Manually split the data into training and testing sets, rather than allowing train_test_split to randomize the split\n",
    "games_train = games[(games['schedule_season'] >= 2009) & (games['schedule_season'] <= 2016)]\n",
    "games_test = games[games['schedule_season'] >= 2017]"
   ]
  },
  {
   "cell_type": "code",
   "execution_count": 6,
   "metadata": {
    "slideshow": {
     "slide_type": "subslide"
    }
   },
   "outputs": [
    {
     "data": {
      "text/html": [
       "<div>\n",
       "<style scoped>\n",
       "    .dataframe tbody tr th:only-of-type {\n",
       "        vertical-align: middle;\n",
       "    }\n",
       "\n",
       "    .dataframe tbody tr th {\n",
       "        vertical-align: top;\n",
       "    }\n",
       "\n",
       "    .dataframe thead th {\n",
       "        text-align: right;\n",
       "    }\n",
       "</style>\n",
       "<table border=\"1\" class=\"dataframe\">\n",
       "  <thead>\n",
       "    <tr style=\"text-align: right;\">\n",
       "      <th></th>\n",
       "      <th>cumulative_win_percent</th>\n",
       "      <th>opp_win_percent</th>\n",
       "      <th>Miami Dolphins</th>\n",
       "      <th>Oakland Raiders</th>\n",
       "      <th>Denver Broncos</th>\n",
       "      <th>San Diego Chargers</th>\n",
       "      <th>Buffalo Bills</th>\n",
       "      <th>Green Bay Packers</th>\n",
       "      <th>Atlanta Falcons</th>\n",
       "      <th>Detroit Lions</th>\n",
       "      <th>...</th>\n",
       "      <th>stadium_outdoors</th>\n",
       "      <th>stadium_retractable</th>\n",
       "      <th>stadium_neutral_true</th>\n",
       "      <th>stadium_neutral_false</th>\n",
       "      <th>temp_below_32</th>\n",
       "      <th>temp_32_to_80</th>\n",
       "      <th>temp_above_80</th>\n",
       "      <th>wind_below_15</th>\n",
       "      <th>wind_GTE_15</th>\n",
       "      <th>win_lose_draw</th>\n",
       "    </tr>\n",
       "  </thead>\n",
       "  <tbody>\n",
       "    <tr>\n",
       "      <th>19482</th>\n",
       "      <td>0.5</td>\n",
       "      <td>0.5</td>\n",
       "      <td>0</td>\n",
       "      <td>0</td>\n",
       "      <td>0</td>\n",
       "      <td>0</td>\n",
       "      <td>0</td>\n",
       "      <td>0</td>\n",
       "      <td>0</td>\n",
       "      <td>0</td>\n",
       "      <td>...</td>\n",
       "      <td>1.0</td>\n",
       "      <td>0.0</td>\n",
       "      <td>0</td>\n",
       "      <td>1</td>\n",
       "      <td>0</td>\n",
       "      <td>1</td>\n",
       "      <td>0</td>\n",
       "      <td>1</td>\n",
       "      <td>0</td>\n",
       "      <td>0</td>\n",
       "    </tr>\n",
       "    <tr>\n",
       "      <th>19483</th>\n",
       "      <td>0.5</td>\n",
       "      <td>0.5</td>\n",
       "      <td>0</td>\n",
       "      <td>0</td>\n",
       "      <td>0</td>\n",
       "      <td>0</td>\n",
       "      <td>0</td>\n",
       "      <td>0</td>\n",
       "      <td>0</td>\n",
       "      <td>0</td>\n",
       "      <td>...</td>\n",
       "      <td>1.0</td>\n",
       "      <td>0.0</td>\n",
       "      <td>0</td>\n",
       "      <td>1</td>\n",
       "      <td>0</td>\n",
       "      <td>1</td>\n",
       "      <td>0</td>\n",
       "      <td>1</td>\n",
       "      <td>0</td>\n",
       "      <td>1</td>\n",
       "    </tr>\n",
       "    <tr>\n",
       "      <th>19484</th>\n",
       "      <td>0.5</td>\n",
       "      <td>0.5</td>\n",
       "      <td>0</td>\n",
       "      <td>0</td>\n",
       "      <td>0</td>\n",
       "      <td>0</td>\n",
       "      <td>0</td>\n",
       "      <td>0</td>\n",
       "      <td>0</td>\n",
       "      <td>0</td>\n",
       "      <td>...</td>\n",
       "      <td>0.0</td>\n",
       "      <td>1.0</td>\n",
       "      <td>0</td>\n",
       "      <td>1</td>\n",
       "      <td>0</td>\n",
       "      <td>1</td>\n",
       "      <td>0</td>\n",
       "      <td>1</td>\n",
       "      <td>0</td>\n",
       "      <td>1</td>\n",
       "    </tr>\n",
       "    <tr>\n",
       "      <th>19485</th>\n",
       "      <td>0.5</td>\n",
       "      <td>0.5</td>\n",
       "      <td>0</td>\n",
       "      <td>0</td>\n",
       "      <td>0</td>\n",
       "      <td>0</td>\n",
       "      <td>0</td>\n",
       "      <td>0</td>\n",
       "      <td>0</td>\n",
       "      <td>0</td>\n",
       "      <td>...</td>\n",
       "      <td>0.0</td>\n",
       "      <td>1.0</td>\n",
       "      <td>0</td>\n",
       "      <td>1</td>\n",
       "      <td>0</td>\n",
       "      <td>1</td>\n",
       "      <td>0</td>\n",
       "      <td>1</td>\n",
       "      <td>0</td>\n",
       "      <td>0</td>\n",
       "    </tr>\n",
       "    <tr>\n",
       "      <th>19486</th>\n",
       "      <td>0.5</td>\n",
       "      <td>0.5</td>\n",
       "      <td>0</td>\n",
       "      <td>0</td>\n",
       "      <td>0</td>\n",
       "      <td>0</td>\n",
       "      <td>0</td>\n",
       "      <td>0</td>\n",
       "      <td>1</td>\n",
       "      <td>0</td>\n",
       "      <td>...</td>\n",
       "      <td>0.0</td>\n",
       "      <td>0.0</td>\n",
       "      <td>0</td>\n",
       "      <td>1</td>\n",
       "      <td>0</td>\n",
       "      <td>1</td>\n",
       "      <td>0</td>\n",
       "      <td>1</td>\n",
       "      <td>0</td>\n",
       "      <td>0</td>\n",
       "    </tr>\n",
       "  </tbody>\n",
       "</table>\n",
       "<p>5 rows × 50 columns</p>\n",
       "</div>"
      ],
      "text/plain": [
       "       cumulative_win_percent  opp_win_percent  Miami Dolphins  \\\n",
       "19482                     0.5              0.5               0   \n",
       "19483                     0.5              0.5               0   \n",
       "19484                     0.5              0.5               0   \n",
       "19485                     0.5              0.5               0   \n",
       "19486                     0.5              0.5               0   \n",
       "\n",
       "       Oakland Raiders  Denver Broncos  San Diego Chargers  Buffalo Bills  \\\n",
       "19482                0               0                   0              0   \n",
       "19483                0               0                   0              0   \n",
       "19484                0               0                   0              0   \n",
       "19485                0               0                   0              0   \n",
       "19486                0               0                   0              0   \n",
       "\n",
       "       Green Bay Packers  Atlanta Falcons  Detroit Lions      ...        \\\n",
       "19482                  0                0              0      ...         \n",
       "19483                  0                0              0      ...         \n",
       "19484                  0                0              0      ...         \n",
       "19485                  0                0              0      ...         \n",
       "19486                  0                1              0      ...         \n",
       "\n",
       "       stadium_outdoors  stadium_retractable  stadium_neutral_true  \\\n",
       "19482               1.0                  0.0                     0   \n",
       "19483               1.0                  0.0                     0   \n",
       "19484               0.0                  1.0                     0   \n",
       "19485               0.0                  1.0                     0   \n",
       "19486               0.0                  0.0                     0   \n",
       "\n",
       "       stadium_neutral_false  temp_below_32  temp_32_to_80  temp_above_80  \\\n",
       "19482                      1              0              1              0   \n",
       "19483                      1              0              1              0   \n",
       "19484                      1              0              1              0   \n",
       "19485                      1              0              1              0   \n",
       "19486                      1              0              1              0   \n",
       "\n",
       "       wind_below_15  wind_GTE_15  win_lose_draw  \n",
       "19482              1            0              0  \n",
       "19483              1            0              1  \n",
       "19484              1            0              1  \n",
       "19485              1            0              0  \n",
       "19486              1            0              0  \n",
       "\n",
       "[5 rows x 50 columns]"
      ]
     },
     "execution_count": 6,
     "metadata": {},
     "output_type": "execute_result"
    }
   ],
   "source": [
    "# Eliminate non-numeric columns for training data\n",
    "games_train_filtered = games_train[[\n",
    "    'cumulative_win_percent',\n",
    "    'opp_win_percent',\n",
    "    'Miami Dolphins',\n",
    "    'Oakland Raiders',\n",
    "#     'Houston Oilers',\n",
    "    'Denver Broncos',\n",
    "    'San Diego Chargers',\n",
    "    'Buffalo Bills',\n",
    "    'Green Bay Packers',\n",
    "#     'Baltimore Colts',\n",
    "    'Atlanta Falcons',\n",
    "#     'Los Angeles Rams',\n",
    "    'Detroit Lions',\n",
    "    'Chicago Bears',\n",
    "    'Pittsburgh Steelers',\n",
    "    'New York Giants',\n",
    "    'San Francisco 49ers',\n",
    "    'Minnesota Vikings',\n",
    "#     'St. Louis Cardinals',\n",
    "    'Philadelphia Eagles',\n",
    "    'Washington Redskins',\n",
    "    'Cleveland Browns',\n",
    "    'New York Jets',\n",
    "    'New England Patriots',\n",
    "    'Kansas City Chiefs',\n",
    "    'Dallas Cowboys',\n",
    "#     'Boston Patriots',\n",
    "    'New Orleans Saints',\n",
    "    'Cincinnati Bengals',\n",
    "    'Tampa Bay Buccaneers',\n",
    "    'Seattle Seahawks',\n",
    "#     'Los Angeles Raiders',\n",
    "    'Indianapolis Colts',\n",
    "#     'Phoenix Cardinals',\n",
    "    'Arizona Cardinals',\n",
    "    'Carolina Panthers',\n",
    "    'St. Louis Rams',\n",
    "    'Jacksonville Jaguars',\n",
    "    'Baltimore Ravens',\n",
    "#     'Tennessee Oilers',\n",
    "    'Tennessee Titans',\n",
    "    'Houston Texans',\n",
    "#     'Los Angeles Chargers',\n",
    "    'Home',\n",
    "    'Away',\n",
    "    'Favorite_to_Win',\n",
    "    'Favorite_to_Lose',\n",
    "    'spread_favorite_clean',\n",
    "    'stadium_indoors',\n",
    "    'stadium_outdoors',\n",
    "    'stadium_retractable',\n",
    "    'stadium_neutral_true',\n",
    "    'stadium_neutral_false',\n",
    "    'temp_below_32',\n",
    "    'temp_32_to_80',\n",
    "    'temp_above_80',\n",
    "    'wind_below_15',\n",
    "    'wind_GTE_15',\n",
    "    'win_lose_draw'    \n",
    "]]\n",
    "games_train_filtered.head()"
   ]
  },
  {
   "cell_type": "code",
   "execution_count": 7,
   "metadata": {
    "slideshow": {
     "slide_type": "subslide"
    }
   },
   "outputs": [
    {
     "data": {
      "text/html": [
       "<div>\n",
       "<style scoped>\n",
       "    .dataframe tbody tr th:only-of-type {\n",
       "        vertical-align: middle;\n",
       "    }\n",
       "\n",
       "    .dataframe tbody tr th {\n",
       "        vertical-align: top;\n",
       "    }\n",
       "\n",
       "    .dataframe thead th {\n",
       "        text-align: right;\n",
       "    }\n",
       "</style>\n",
       "<table border=\"1\" class=\"dataframe\">\n",
       "  <thead>\n",
       "    <tr style=\"text-align: right;\">\n",
       "      <th></th>\n",
       "      <th>cumulative_win_percent</th>\n",
       "      <th>opp_win_percent</th>\n",
       "      <th>Miami Dolphins</th>\n",
       "      <th>Oakland Raiders</th>\n",
       "      <th>Denver Broncos</th>\n",
       "      <th>San Diego Chargers</th>\n",
       "      <th>Buffalo Bills</th>\n",
       "      <th>Green Bay Packers</th>\n",
       "      <th>Atlanta Falcons</th>\n",
       "      <th>Detroit Lions</th>\n",
       "      <th>...</th>\n",
       "      <th>stadium_outdoors</th>\n",
       "      <th>stadium_retractable</th>\n",
       "      <th>stadium_neutral_true</th>\n",
       "      <th>stadium_neutral_false</th>\n",
       "      <th>temp_below_32</th>\n",
       "      <th>temp_32_to_80</th>\n",
       "      <th>temp_above_80</th>\n",
       "      <th>wind_below_15</th>\n",
       "      <th>wind_GTE_15</th>\n",
       "      <th>win_lose_draw</th>\n",
       "    </tr>\n",
       "  </thead>\n",
       "  <tbody>\n",
       "    <tr>\n",
       "      <th>23754</th>\n",
       "      <td>0.5</td>\n",
       "      <td>0.5</td>\n",
       "      <td>0</td>\n",
       "      <td>0</td>\n",
       "      <td>0</td>\n",
       "      <td>0</td>\n",
       "      <td>0</td>\n",
       "      <td>0</td>\n",
       "      <td>0</td>\n",
       "      <td>0</td>\n",
       "      <td>...</td>\n",
       "      <td>1.0</td>\n",
       "      <td>0.0</td>\n",
       "      <td>0</td>\n",
       "      <td>1</td>\n",
       "      <td>0</td>\n",
       "      <td>1</td>\n",
       "      <td>0</td>\n",
       "      <td>1</td>\n",
       "      <td>0</td>\n",
       "      <td>0</td>\n",
       "    </tr>\n",
       "    <tr>\n",
       "      <th>23755</th>\n",
       "      <td>0.5</td>\n",
       "      <td>0.5</td>\n",
       "      <td>0</td>\n",
       "      <td>0</td>\n",
       "      <td>0</td>\n",
       "      <td>0</td>\n",
       "      <td>0</td>\n",
       "      <td>0</td>\n",
       "      <td>0</td>\n",
       "      <td>0</td>\n",
       "      <td>...</td>\n",
       "      <td>1.0</td>\n",
       "      <td>0.0</td>\n",
       "      <td>0</td>\n",
       "      <td>1</td>\n",
       "      <td>0</td>\n",
       "      <td>1</td>\n",
       "      <td>0</td>\n",
       "      <td>1</td>\n",
       "      <td>0</td>\n",
       "      <td>1</td>\n",
       "    </tr>\n",
       "    <tr>\n",
       "      <th>23756</th>\n",
       "      <td>0.5</td>\n",
       "      <td>0.5</td>\n",
       "      <td>0</td>\n",
       "      <td>0</td>\n",
       "      <td>0</td>\n",
       "      <td>0</td>\n",
       "      <td>1</td>\n",
       "      <td>0</td>\n",
       "      <td>0</td>\n",
       "      <td>0</td>\n",
       "      <td>...</td>\n",
       "      <td>1.0</td>\n",
       "      <td>0.0</td>\n",
       "      <td>0</td>\n",
       "      <td>1</td>\n",
       "      <td>0</td>\n",
       "      <td>1</td>\n",
       "      <td>0</td>\n",
       "      <td>1</td>\n",
       "      <td>0</td>\n",
       "      <td>0</td>\n",
       "    </tr>\n",
       "    <tr>\n",
       "      <th>23757</th>\n",
       "      <td>0.5</td>\n",
       "      <td>0.5</td>\n",
       "      <td>0</td>\n",
       "      <td>0</td>\n",
       "      <td>0</td>\n",
       "      <td>0</td>\n",
       "      <td>0</td>\n",
       "      <td>0</td>\n",
       "      <td>0</td>\n",
       "      <td>0</td>\n",
       "      <td>...</td>\n",
       "      <td>1.0</td>\n",
       "      <td>0.0</td>\n",
       "      <td>0</td>\n",
       "      <td>1</td>\n",
       "      <td>0</td>\n",
       "      <td>1</td>\n",
       "      <td>0</td>\n",
       "      <td>1</td>\n",
       "      <td>0</td>\n",
       "      <td>1</td>\n",
       "    </tr>\n",
       "    <tr>\n",
       "      <th>23758</th>\n",
       "      <td>0.5</td>\n",
       "      <td>0.5</td>\n",
       "      <td>0</td>\n",
       "      <td>0</td>\n",
       "      <td>0</td>\n",
       "      <td>0</td>\n",
       "      <td>0</td>\n",
       "      <td>0</td>\n",
       "      <td>1</td>\n",
       "      <td>0</td>\n",
       "      <td>...</td>\n",
       "      <td>1.0</td>\n",
       "      <td>0.0</td>\n",
       "      <td>0</td>\n",
       "      <td>1</td>\n",
       "      <td>0</td>\n",
       "      <td>1</td>\n",
       "      <td>0</td>\n",
       "      <td>1</td>\n",
       "      <td>0</td>\n",
       "      <td>0</td>\n",
       "    </tr>\n",
       "  </tbody>\n",
       "</table>\n",
       "<p>5 rows × 50 columns</p>\n",
       "</div>"
      ],
      "text/plain": [
       "       cumulative_win_percent  opp_win_percent  Miami Dolphins  \\\n",
       "23754                     0.5              0.5               0   \n",
       "23755                     0.5              0.5               0   \n",
       "23756                     0.5              0.5               0   \n",
       "23757                     0.5              0.5               0   \n",
       "23758                     0.5              0.5               0   \n",
       "\n",
       "       Oakland Raiders  Denver Broncos  San Diego Chargers  Buffalo Bills  \\\n",
       "23754                0               0                   0              0   \n",
       "23755                0               0                   0              0   \n",
       "23756                0               0                   0              1   \n",
       "23757                0               0                   0              0   \n",
       "23758                0               0                   0              0   \n",
       "\n",
       "       Green Bay Packers  Atlanta Falcons  Detroit Lions      ...        \\\n",
       "23754                  0                0              0      ...         \n",
       "23755                  0                0              0      ...         \n",
       "23756                  0                0              0      ...         \n",
       "23757                  0                0              0      ...         \n",
       "23758                  0                1              0      ...         \n",
       "\n",
       "       stadium_outdoors  stadium_retractable  stadium_neutral_true  \\\n",
       "23754               1.0                  0.0                     0   \n",
       "23755               1.0                  0.0                     0   \n",
       "23756               1.0                  0.0                     0   \n",
       "23757               1.0                  0.0                     0   \n",
       "23758               1.0                  0.0                     0   \n",
       "\n",
       "       stadium_neutral_false  temp_below_32  temp_32_to_80  temp_above_80  \\\n",
       "23754                      1              0              1              0   \n",
       "23755                      1              0              1              0   \n",
       "23756                      1              0              1              0   \n",
       "23757                      1              0              1              0   \n",
       "23758                      1              0              1              0   \n",
       "\n",
       "       wind_below_15  wind_GTE_15  win_lose_draw  \n",
       "23754              1            0              0  \n",
       "23755              1            0              1  \n",
       "23756              1            0              0  \n",
       "23757              1            0              1  \n",
       "23758              1            0              0  \n",
       "\n",
       "[5 rows x 50 columns]"
      ]
     },
     "execution_count": 7,
     "metadata": {},
     "output_type": "execute_result"
    }
   ],
   "source": [
    "# Eliminate non-numeric columns for testing data\n",
    "games_test_filtered = games_test[[\n",
    "    'cumulative_win_percent',\n",
    "    'opp_win_percent',\n",
    "    'Miami Dolphins',\n",
    "    'Oakland Raiders',\n",
    "#     'Houston Oilers',\n",
    "    'Denver Broncos',\n",
    "    'San Diego Chargers',\n",
    "    'Buffalo Bills',\n",
    "    'Green Bay Packers',\n",
    "#     'Baltimore Colts',\n",
    "    'Atlanta Falcons',\n",
    "#     'Los Angeles Rams',\n",
    "    'Detroit Lions',\n",
    "    'Chicago Bears',\n",
    "    'Pittsburgh Steelers',\n",
    "    'New York Giants',\n",
    "    'San Francisco 49ers',\n",
    "    'Minnesota Vikings',\n",
    "#     'St. Louis Cardinals',\n",
    "    'Philadelphia Eagles',\n",
    "    'Washington Redskins',\n",
    "    'Cleveland Browns',\n",
    "    'New York Jets',\n",
    "    'New England Patriots',\n",
    "    'Kansas City Chiefs',\n",
    "    'Dallas Cowboys',\n",
    "#     'Boston Patriots',\n",
    "    'New Orleans Saints',\n",
    "    'Cincinnati Bengals',\n",
    "    'Tampa Bay Buccaneers',\n",
    "    'Seattle Seahawks',\n",
    "#     'Los Angeles Raiders',\n",
    "    'Indianapolis Colts',\n",
    "#     'Phoenix Cardinals',\n",
    "    'Arizona Cardinals',\n",
    "    'Carolina Panthers',\n",
    "    'St. Louis Rams',\n",
    "    'Jacksonville Jaguars',\n",
    "    'Baltimore Ravens',\n",
    "#     'Tennessee Oilers',\n",
    "    'Tennessee Titans',\n",
    "    'Houston Texans',\n",
    "#     'Los Angeles Chargers',\n",
    "    'Home',\n",
    "    'Away',\n",
    "    'Favorite_to_Win',\n",
    "    'Favorite_to_Lose',\n",
    "    'spread_favorite_clean',\n",
    "    'stadium_indoors',\n",
    "    'stadium_outdoors',\n",
    "    'stadium_retractable',\n",
    "    'stadium_neutral_true',\n",
    "    'stadium_neutral_false',\n",
    "    'temp_below_32',\n",
    "    'temp_32_to_80',\n",
    "    'temp_above_80',\n",
    "    'wind_below_15',\n",
    "    'wind_GTE_15',\n",
    "    'win_lose_draw'    \n",
    "]]\n",
    "games_test_filtered.head()"
   ]
  },
  {
   "cell_type": "code",
   "execution_count": 8,
   "metadata": {
    "scrolled": true,
    "slideshow": {
     "slide_type": "subslide"
    }
   },
   "outputs": [
    {
     "data": {
      "text/html": [
       "<div>\n",
       "<style scoped>\n",
       "    .dataframe tbody tr th:only-of-type {\n",
       "        vertical-align: middle;\n",
       "    }\n",
       "\n",
       "    .dataframe tbody tr th {\n",
       "        vertical-align: top;\n",
       "    }\n",
       "\n",
       "    .dataframe thead th {\n",
       "        text-align: right;\n",
       "    }\n",
       "</style>\n",
       "<table border=\"1\" class=\"dataframe\">\n",
       "  <thead>\n",
       "    <tr style=\"text-align: right;\">\n",
       "      <th></th>\n",
       "      <th>cumulative_win_percent</th>\n",
       "      <th>opp_win_percent</th>\n",
       "      <th>Miami Dolphins</th>\n",
       "      <th>Oakland Raiders</th>\n",
       "      <th>Denver Broncos</th>\n",
       "      <th>San Diego Chargers</th>\n",
       "      <th>Buffalo Bills</th>\n",
       "      <th>Green Bay Packers</th>\n",
       "      <th>Atlanta Falcons</th>\n",
       "      <th>Detroit Lions</th>\n",
       "      <th>...</th>\n",
       "      <th>stadium_outdoors</th>\n",
       "      <th>stadium_retractable</th>\n",
       "      <th>stadium_neutral_true</th>\n",
       "      <th>stadium_neutral_false</th>\n",
       "      <th>temp_below_32</th>\n",
       "      <th>temp_32_to_80</th>\n",
       "      <th>temp_above_80</th>\n",
       "      <th>wind_below_15</th>\n",
       "      <th>wind_GTE_15</th>\n",
       "      <th>win_lose_draw</th>\n",
       "    </tr>\n",
       "  </thead>\n",
       "  <tbody>\n",
       "    <tr>\n",
       "      <th>19482</th>\n",
       "      <td>0.5</td>\n",
       "      <td>0.5</td>\n",
       "      <td>0</td>\n",
       "      <td>0</td>\n",
       "      <td>0</td>\n",
       "      <td>0</td>\n",
       "      <td>0</td>\n",
       "      <td>0</td>\n",
       "      <td>0</td>\n",
       "      <td>0</td>\n",
       "      <td>...</td>\n",
       "      <td>1.0</td>\n",
       "      <td>0.0</td>\n",
       "      <td>0</td>\n",
       "      <td>1</td>\n",
       "      <td>0</td>\n",
       "      <td>1</td>\n",
       "      <td>0</td>\n",
       "      <td>1</td>\n",
       "      <td>0</td>\n",
       "      <td>0</td>\n",
       "    </tr>\n",
       "    <tr>\n",
       "      <th>19483</th>\n",
       "      <td>0.5</td>\n",
       "      <td>0.5</td>\n",
       "      <td>0</td>\n",
       "      <td>0</td>\n",
       "      <td>0</td>\n",
       "      <td>0</td>\n",
       "      <td>0</td>\n",
       "      <td>0</td>\n",
       "      <td>0</td>\n",
       "      <td>0</td>\n",
       "      <td>...</td>\n",
       "      <td>1.0</td>\n",
       "      <td>0.0</td>\n",
       "      <td>0</td>\n",
       "      <td>1</td>\n",
       "      <td>0</td>\n",
       "      <td>1</td>\n",
       "      <td>0</td>\n",
       "      <td>1</td>\n",
       "      <td>0</td>\n",
       "      <td>1</td>\n",
       "    </tr>\n",
       "    <tr>\n",
       "      <th>19484</th>\n",
       "      <td>0.5</td>\n",
       "      <td>0.5</td>\n",
       "      <td>0</td>\n",
       "      <td>0</td>\n",
       "      <td>0</td>\n",
       "      <td>0</td>\n",
       "      <td>0</td>\n",
       "      <td>0</td>\n",
       "      <td>0</td>\n",
       "      <td>0</td>\n",
       "      <td>...</td>\n",
       "      <td>0.0</td>\n",
       "      <td>1.0</td>\n",
       "      <td>0</td>\n",
       "      <td>1</td>\n",
       "      <td>0</td>\n",
       "      <td>1</td>\n",
       "      <td>0</td>\n",
       "      <td>1</td>\n",
       "      <td>0</td>\n",
       "      <td>1</td>\n",
       "    </tr>\n",
       "    <tr>\n",
       "      <th>19485</th>\n",
       "      <td>0.5</td>\n",
       "      <td>0.5</td>\n",
       "      <td>0</td>\n",
       "      <td>0</td>\n",
       "      <td>0</td>\n",
       "      <td>0</td>\n",
       "      <td>0</td>\n",
       "      <td>0</td>\n",
       "      <td>0</td>\n",
       "      <td>0</td>\n",
       "      <td>...</td>\n",
       "      <td>0.0</td>\n",
       "      <td>1.0</td>\n",
       "      <td>0</td>\n",
       "      <td>1</td>\n",
       "      <td>0</td>\n",
       "      <td>1</td>\n",
       "      <td>0</td>\n",
       "      <td>1</td>\n",
       "      <td>0</td>\n",
       "      <td>0</td>\n",
       "    </tr>\n",
       "    <tr>\n",
       "      <th>19486</th>\n",
       "      <td>0.5</td>\n",
       "      <td>0.5</td>\n",
       "      <td>0</td>\n",
       "      <td>0</td>\n",
       "      <td>0</td>\n",
       "      <td>0</td>\n",
       "      <td>0</td>\n",
       "      <td>0</td>\n",
       "      <td>1</td>\n",
       "      <td>0</td>\n",
       "      <td>...</td>\n",
       "      <td>0.0</td>\n",
       "      <td>0.0</td>\n",
       "      <td>0</td>\n",
       "      <td>1</td>\n",
       "      <td>0</td>\n",
       "      <td>1</td>\n",
       "      <td>0</td>\n",
       "      <td>1</td>\n",
       "      <td>0</td>\n",
       "      <td>0</td>\n",
       "    </tr>\n",
       "    <tr>\n",
       "      <th>19487</th>\n",
       "      <td>0.5</td>\n",
       "      <td>0.5</td>\n",
       "      <td>1</td>\n",
       "      <td>0</td>\n",
       "      <td>0</td>\n",
       "      <td>0</td>\n",
       "      <td>0</td>\n",
       "      <td>0</td>\n",
       "      <td>0</td>\n",
       "      <td>0</td>\n",
       "      <td>...</td>\n",
       "      <td>0.0</td>\n",
       "      <td>0.0</td>\n",
       "      <td>0</td>\n",
       "      <td>1</td>\n",
       "      <td>0</td>\n",
       "      <td>1</td>\n",
       "      <td>0</td>\n",
       "      <td>1</td>\n",
       "      <td>0</td>\n",
       "      <td>1</td>\n",
       "    </tr>\n",
       "    <tr>\n",
       "      <th>19488</th>\n",
       "      <td>0.5</td>\n",
       "      <td>0.5</td>\n",
       "      <td>0</td>\n",
       "      <td>0</td>\n",
       "      <td>0</td>\n",
       "      <td>0</td>\n",
       "      <td>0</td>\n",
       "      <td>0</td>\n",
       "      <td>0</td>\n",
       "      <td>0</td>\n",
       "      <td>...</td>\n",
       "      <td>1.0</td>\n",
       "      <td>0.0</td>\n",
       "      <td>0</td>\n",
       "      <td>1</td>\n",
       "      <td>0</td>\n",
       "      <td>1</td>\n",
       "      <td>0</td>\n",
       "      <td>1</td>\n",
       "      <td>0</td>\n",
       "      <td>0</td>\n",
       "    </tr>\n",
       "    <tr>\n",
       "      <th>19489</th>\n",
       "      <td>0.5</td>\n",
       "      <td>0.5</td>\n",
       "      <td>0</td>\n",
       "      <td>0</td>\n",
       "      <td>0</td>\n",
       "      <td>0</td>\n",
       "      <td>0</td>\n",
       "      <td>0</td>\n",
       "      <td>0</td>\n",
       "      <td>0</td>\n",
       "      <td>...</td>\n",
       "      <td>1.0</td>\n",
       "      <td>0.0</td>\n",
       "      <td>0</td>\n",
       "      <td>1</td>\n",
       "      <td>0</td>\n",
       "      <td>1</td>\n",
       "      <td>0</td>\n",
       "      <td>1</td>\n",
       "      <td>0</td>\n",
       "      <td>1</td>\n",
       "    </tr>\n",
       "    <tr>\n",
       "      <th>19490</th>\n",
       "      <td>0.5</td>\n",
       "      <td>0.5</td>\n",
       "      <td>0</td>\n",
       "      <td>0</td>\n",
       "      <td>0</td>\n",
       "      <td>0</td>\n",
       "      <td>0</td>\n",
       "      <td>0</td>\n",
       "      <td>0</td>\n",
       "      <td>0</td>\n",
       "      <td>...</td>\n",
       "      <td>1.0</td>\n",
       "      <td>0.0</td>\n",
       "      <td>0</td>\n",
       "      <td>1</td>\n",
       "      <td>0</td>\n",
       "      <td>1</td>\n",
       "      <td>0</td>\n",
       "      <td>1</td>\n",
       "      <td>0</td>\n",
       "      <td>1</td>\n",
       "    </tr>\n",
       "    <tr>\n",
       "      <th>19491</th>\n",
       "      <td>0.5</td>\n",
       "      <td>0.5</td>\n",
       "      <td>0</td>\n",
       "      <td>0</td>\n",
       "      <td>0</td>\n",
       "      <td>0</td>\n",
       "      <td>0</td>\n",
       "      <td>0</td>\n",
       "      <td>0</td>\n",
       "      <td>0</td>\n",
       "      <td>...</td>\n",
       "      <td>1.0</td>\n",
       "      <td>0.0</td>\n",
       "      <td>0</td>\n",
       "      <td>1</td>\n",
       "      <td>0</td>\n",
       "      <td>1</td>\n",
       "      <td>0</td>\n",
       "      <td>1</td>\n",
       "      <td>0</td>\n",
       "      <td>0</td>\n",
       "    </tr>\n",
       "    <tr>\n",
       "      <th>19492</th>\n",
       "      <td>0.5</td>\n",
       "      <td>0.5</td>\n",
       "      <td>0</td>\n",
       "      <td>0</td>\n",
       "      <td>0</td>\n",
       "      <td>0</td>\n",
       "      <td>0</td>\n",
       "      <td>0</td>\n",
       "      <td>0</td>\n",
       "      <td>0</td>\n",
       "      <td>...</td>\n",
       "      <td>1.0</td>\n",
       "      <td>0.0</td>\n",
       "      <td>0</td>\n",
       "      <td>1</td>\n",
       "      <td>0</td>\n",
       "      <td>1</td>\n",
       "      <td>0</td>\n",
       "      <td>1</td>\n",
       "      <td>0</td>\n",
       "      <td>1</td>\n",
       "    </tr>\n",
       "    <tr>\n",
       "      <th>19493</th>\n",
       "      <td>0.5</td>\n",
       "      <td>0.5</td>\n",
       "      <td>0</td>\n",
       "      <td>0</td>\n",
       "      <td>1</td>\n",
       "      <td>0</td>\n",
       "      <td>0</td>\n",
       "      <td>0</td>\n",
       "      <td>0</td>\n",
       "      <td>0</td>\n",
       "      <td>...</td>\n",
       "      <td>1.0</td>\n",
       "      <td>0.0</td>\n",
       "      <td>0</td>\n",
       "      <td>1</td>\n",
       "      <td>0</td>\n",
       "      <td>1</td>\n",
       "      <td>0</td>\n",
       "      <td>1</td>\n",
       "      <td>0</td>\n",
       "      <td>0</td>\n",
       "    </tr>\n",
       "    <tr>\n",
       "      <th>19494</th>\n",
       "      <td>0.5</td>\n",
       "      <td>0.5</td>\n",
       "      <td>0</td>\n",
       "      <td>0</td>\n",
       "      <td>0</td>\n",
       "      <td>0</td>\n",
       "      <td>0</td>\n",
       "      <td>0</td>\n",
       "      <td>0</td>\n",
       "      <td>0</td>\n",
       "      <td>...</td>\n",
       "      <td>1.0</td>\n",
       "      <td>0.0</td>\n",
       "      <td>0</td>\n",
       "      <td>1</td>\n",
       "      <td>0</td>\n",
       "      <td>1</td>\n",
       "      <td>0</td>\n",
       "      <td>1</td>\n",
       "      <td>0</td>\n",
       "      <td>1</td>\n",
       "    </tr>\n",
       "    <tr>\n",
       "      <th>19495</th>\n",
       "      <td>0.5</td>\n",
       "      <td>0.5</td>\n",
       "      <td>0</td>\n",
       "      <td>0</td>\n",
       "      <td>0</td>\n",
       "      <td>0</td>\n",
       "      <td>0</td>\n",
       "      <td>0</td>\n",
       "      <td>0</td>\n",
       "      <td>0</td>\n",
       "      <td>...</td>\n",
       "      <td>1.0</td>\n",
       "      <td>0.0</td>\n",
       "      <td>0</td>\n",
       "      <td>1</td>\n",
       "      <td>0</td>\n",
       "      <td>1</td>\n",
       "      <td>0</td>\n",
       "      <td>1</td>\n",
       "      <td>0</td>\n",
       "      <td>0</td>\n",
       "    </tr>\n",
       "    <tr>\n",
       "      <th>19496</th>\n",
       "      <td>0.5</td>\n",
       "      <td>0.5</td>\n",
       "      <td>0</td>\n",
       "      <td>0</td>\n",
       "      <td>0</td>\n",
       "      <td>0</td>\n",
       "      <td>0</td>\n",
       "      <td>0</td>\n",
       "      <td>0</td>\n",
       "      <td>0</td>\n",
       "      <td>...</td>\n",
       "      <td>1.0</td>\n",
       "      <td>0.0</td>\n",
       "      <td>0</td>\n",
       "      <td>1</td>\n",
       "      <td>0</td>\n",
       "      <td>1</td>\n",
       "      <td>0</td>\n",
       "      <td>1</td>\n",
       "      <td>0</td>\n",
       "      <td>1</td>\n",
       "    </tr>\n",
       "    <tr>\n",
       "      <th>19497</th>\n",
       "      <td>0.5</td>\n",
       "      <td>0.5</td>\n",
       "      <td>0</td>\n",
       "      <td>0</td>\n",
       "      <td>0</td>\n",
       "      <td>0</td>\n",
       "      <td>0</td>\n",
       "      <td>1</td>\n",
       "      <td>0</td>\n",
       "      <td>0</td>\n",
       "      <td>...</td>\n",
       "      <td>1.0</td>\n",
       "      <td>0.0</td>\n",
       "      <td>0</td>\n",
       "      <td>1</td>\n",
       "      <td>0</td>\n",
       "      <td>1</td>\n",
       "      <td>0</td>\n",
       "      <td>1</td>\n",
       "      <td>0</td>\n",
       "      <td>0</td>\n",
       "    </tr>\n",
       "    <tr>\n",
       "      <th>19498</th>\n",
       "      <td>0.5</td>\n",
       "      <td>0.5</td>\n",
       "      <td>0</td>\n",
       "      <td>0</td>\n",
       "      <td>0</td>\n",
       "      <td>0</td>\n",
       "      <td>0</td>\n",
       "      <td>0</td>\n",
       "      <td>0</td>\n",
       "      <td>0</td>\n",
       "      <td>...</td>\n",
       "      <td>0.0</td>\n",
       "      <td>1.0</td>\n",
       "      <td>0</td>\n",
       "      <td>1</td>\n",
       "      <td>0</td>\n",
       "      <td>1</td>\n",
       "      <td>0</td>\n",
       "      <td>1</td>\n",
       "      <td>0</td>\n",
       "      <td>1</td>\n",
       "    </tr>\n",
       "    <tr>\n",
       "      <th>19499</th>\n",
       "      <td>0.5</td>\n",
       "      <td>0.5</td>\n",
       "      <td>0</td>\n",
       "      <td>0</td>\n",
       "      <td>0</td>\n",
       "      <td>0</td>\n",
       "      <td>0</td>\n",
       "      <td>0</td>\n",
       "      <td>0</td>\n",
       "      <td>0</td>\n",
       "      <td>...</td>\n",
       "      <td>0.0</td>\n",
       "      <td>1.0</td>\n",
       "      <td>0</td>\n",
       "      <td>1</td>\n",
       "      <td>0</td>\n",
       "      <td>1</td>\n",
       "      <td>0</td>\n",
       "      <td>1</td>\n",
       "      <td>0</td>\n",
       "      <td>0</td>\n",
       "    </tr>\n",
       "    <tr>\n",
       "      <th>19500</th>\n",
       "      <td>0.5</td>\n",
       "      <td>0.5</td>\n",
       "      <td>0</td>\n",
       "      <td>0</td>\n",
       "      <td>0</td>\n",
       "      <td>0</td>\n",
       "      <td>0</td>\n",
       "      <td>0</td>\n",
       "      <td>0</td>\n",
       "      <td>0</td>\n",
       "      <td>...</td>\n",
       "      <td>0.0</td>\n",
       "      <td>1.0</td>\n",
       "      <td>0</td>\n",
       "      <td>1</td>\n",
       "      <td>0</td>\n",
       "      <td>1</td>\n",
       "      <td>0</td>\n",
       "      <td>1</td>\n",
       "      <td>0</td>\n",
       "      <td>0</td>\n",
       "    </tr>\n",
       "    <tr>\n",
       "      <th>19501</th>\n",
       "      <td>0.5</td>\n",
       "      <td>0.5</td>\n",
       "      <td>0</td>\n",
       "      <td>0</td>\n",
       "      <td>0</td>\n",
       "      <td>0</td>\n",
       "      <td>0</td>\n",
       "      <td>0</td>\n",
       "      <td>0</td>\n",
       "      <td>0</td>\n",
       "      <td>...</td>\n",
       "      <td>0.0</td>\n",
       "      <td>1.0</td>\n",
       "      <td>0</td>\n",
       "      <td>1</td>\n",
       "      <td>0</td>\n",
       "      <td>1</td>\n",
       "      <td>0</td>\n",
       "      <td>1</td>\n",
       "      <td>0</td>\n",
       "      <td>1</td>\n",
       "    </tr>\n",
       "  </tbody>\n",
       "</table>\n",
       "<p>20 rows × 50 columns</p>\n",
       "</div>"
      ],
      "text/plain": [
       "       cumulative_win_percent  opp_win_percent  Miami Dolphins  \\\n",
       "19482                     0.5              0.5               0   \n",
       "19483                     0.5              0.5               0   \n",
       "19484                     0.5              0.5               0   \n",
       "19485                     0.5              0.5               0   \n",
       "19486                     0.5              0.5               0   \n",
       "19487                     0.5              0.5               1   \n",
       "19488                     0.5              0.5               0   \n",
       "19489                     0.5              0.5               0   \n",
       "19490                     0.5              0.5               0   \n",
       "19491                     0.5              0.5               0   \n",
       "19492                     0.5              0.5               0   \n",
       "19493                     0.5              0.5               0   \n",
       "19494                     0.5              0.5               0   \n",
       "19495                     0.5              0.5               0   \n",
       "19496                     0.5              0.5               0   \n",
       "19497                     0.5              0.5               0   \n",
       "19498                     0.5              0.5               0   \n",
       "19499                     0.5              0.5               0   \n",
       "19500                     0.5              0.5               0   \n",
       "19501                     0.5              0.5               0   \n",
       "\n",
       "       Oakland Raiders  Denver Broncos  San Diego Chargers  Buffalo Bills  \\\n",
       "19482                0               0                   0              0   \n",
       "19483                0               0                   0              0   \n",
       "19484                0               0                   0              0   \n",
       "19485                0               0                   0              0   \n",
       "19486                0               0                   0              0   \n",
       "19487                0               0                   0              0   \n",
       "19488                0               0                   0              0   \n",
       "19489                0               0                   0              0   \n",
       "19490                0               0                   0              0   \n",
       "19491                0               0                   0              0   \n",
       "19492                0               0                   0              0   \n",
       "19493                0               1                   0              0   \n",
       "19494                0               0                   0              0   \n",
       "19495                0               0                   0              0   \n",
       "19496                0               0                   0              0   \n",
       "19497                0               0                   0              0   \n",
       "19498                0               0                   0              0   \n",
       "19499                0               0                   0              0   \n",
       "19500                0               0                   0              0   \n",
       "19501                0               0                   0              0   \n",
       "\n",
       "       Green Bay Packers  Atlanta Falcons  Detroit Lions      ...        \\\n",
       "19482                  0                0              0      ...         \n",
       "19483                  0                0              0      ...         \n",
       "19484                  0                0              0      ...         \n",
       "19485                  0                0              0      ...         \n",
       "19486                  0                1              0      ...         \n",
       "19487                  0                0              0      ...         \n",
       "19488                  0                0              0      ...         \n",
       "19489                  0                0              0      ...         \n",
       "19490                  0                0              0      ...         \n",
       "19491                  0                0              0      ...         \n",
       "19492                  0                0              0      ...         \n",
       "19493                  0                0              0      ...         \n",
       "19494                  0                0              0      ...         \n",
       "19495                  0                0              0      ...         \n",
       "19496                  0                0              0      ...         \n",
       "19497                  1                0              0      ...         \n",
       "19498                  0                0              0      ...         \n",
       "19499                  0                0              0      ...         \n",
       "19500                  0                0              0      ...         \n",
       "19501                  0                0              0      ...         \n",
       "\n",
       "       stadium_outdoors  stadium_retractable  stadium_neutral_true  \\\n",
       "19482               1.0                  0.0                     0   \n",
       "19483               1.0                  0.0                     0   \n",
       "19484               0.0                  1.0                     0   \n",
       "19485               0.0                  1.0                     0   \n",
       "19486               0.0                  0.0                     0   \n",
       "19487               0.0                  0.0                     0   \n",
       "19488               1.0                  0.0                     0   \n",
       "19489               1.0                  0.0                     0   \n",
       "19490               1.0                  0.0                     0   \n",
       "19491               1.0                  0.0                     0   \n",
       "19492               1.0                  0.0                     0   \n",
       "19493               1.0                  0.0                     0   \n",
       "19494               1.0                  0.0                     0   \n",
       "19495               1.0                  0.0                     0   \n",
       "19496               1.0                  0.0                     0   \n",
       "19497               1.0                  0.0                     0   \n",
       "19498               0.0                  1.0                     0   \n",
       "19499               0.0                  1.0                     0   \n",
       "19500               0.0                  1.0                     0   \n",
       "19501               0.0                  1.0                     0   \n",
       "\n",
       "       stadium_neutral_false  temp_below_32  temp_32_to_80  temp_above_80  \\\n",
       "19482                      1              0              1              0   \n",
       "19483                      1              0              1              0   \n",
       "19484                      1              0              1              0   \n",
       "19485                      1              0              1              0   \n",
       "19486                      1              0              1              0   \n",
       "19487                      1              0              1              0   \n",
       "19488                      1              0              1              0   \n",
       "19489                      1              0              1              0   \n",
       "19490                      1              0              1              0   \n",
       "19491                      1              0              1              0   \n",
       "19492                      1              0              1              0   \n",
       "19493                      1              0              1              0   \n",
       "19494                      1              0              1              0   \n",
       "19495                      1              0              1              0   \n",
       "19496                      1              0              1              0   \n",
       "19497                      1              0              1              0   \n",
       "19498                      1              0              1              0   \n",
       "19499                      1              0              1              0   \n",
       "19500                      1              0              1              0   \n",
       "19501                      1              0              1              0   \n",
       "\n",
       "       wind_below_15  wind_GTE_15  win_lose_draw  \n",
       "19482              1            0              0  \n",
       "19483              1            0              1  \n",
       "19484              1            0              1  \n",
       "19485              1            0              0  \n",
       "19486              1            0              0  \n",
       "19487              1            0              1  \n",
       "19488              1            0              0  \n",
       "19489              1            0              1  \n",
       "19490              1            0              1  \n",
       "19491              1            0              0  \n",
       "19492              1            0              1  \n",
       "19493              1            0              0  \n",
       "19494              1            0              1  \n",
       "19495              1            0              0  \n",
       "19496              1            0              1  \n",
       "19497              1            0              0  \n",
       "19498              1            0              1  \n",
       "19499              1            0              0  \n",
       "19500              1            0              0  \n",
       "19501              1            0              1  \n",
       "\n",
       "[20 rows x 50 columns]"
      ]
     },
     "execution_count": 8,
     "metadata": {},
     "output_type": "execute_result"
    }
   ],
   "source": [
    "# Drop rows with NaN in training data\n",
    "games_train_filtered.dropna(inplace=True)\n",
    "games_train_filtered.head(20)"
   ]
  },
  {
   "cell_type": "code",
   "execution_count": 9,
   "metadata": {
    "slideshow": {
     "slide_type": "subslide"
    }
   },
   "outputs": [
    {
     "data": {
      "text/html": [
       "<div>\n",
       "<style scoped>\n",
       "    .dataframe tbody tr th:only-of-type {\n",
       "        vertical-align: middle;\n",
       "    }\n",
       "\n",
       "    .dataframe tbody tr th {\n",
       "        vertical-align: top;\n",
       "    }\n",
       "\n",
       "    .dataframe thead th {\n",
       "        text-align: right;\n",
       "    }\n",
       "</style>\n",
       "<table border=\"1\" class=\"dataframe\">\n",
       "  <thead>\n",
       "    <tr style=\"text-align: right;\">\n",
       "      <th></th>\n",
       "      <th>cumulative_win_percent</th>\n",
       "      <th>opp_win_percent</th>\n",
       "      <th>Miami Dolphins</th>\n",
       "      <th>Oakland Raiders</th>\n",
       "      <th>Denver Broncos</th>\n",
       "      <th>San Diego Chargers</th>\n",
       "      <th>Buffalo Bills</th>\n",
       "      <th>Green Bay Packers</th>\n",
       "      <th>Atlanta Falcons</th>\n",
       "      <th>Detroit Lions</th>\n",
       "      <th>...</th>\n",
       "      <th>stadium_outdoors</th>\n",
       "      <th>stadium_retractable</th>\n",
       "      <th>stadium_neutral_true</th>\n",
       "      <th>stadium_neutral_false</th>\n",
       "      <th>temp_below_32</th>\n",
       "      <th>temp_32_to_80</th>\n",
       "      <th>temp_above_80</th>\n",
       "      <th>wind_below_15</th>\n",
       "      <th>wind_GTE_15</th>\n",
       "      <th>win_lose_draw</th>\n",
       "    </tr>\n",
       "  </thead>\n",
       "  <tbody>\n",
       "    <tr>\n",
       "      <th>23754</th>\n",
       "      <td>0.5</td>\n",
       "      <td>0.5</td>\n",
       "      <td>0</td>\n",
       "      <td>0</td>\n",
       "      <td>0</td>\n",
       "      <td>0</td>\n",
       "      <td>0</td>\n",
       "      <td>0</td>\n",
       "      <td>0</td>\n",
       "      <td>0</td>\n",
       "      <td>...</td>\n",
       "      <td>1.0</td>\n",
       "      <td>0.0</td>\n",
       "      <td>0</td>\n",
       "      <td>1</td>\n",
       "      <td>0</td>\n",
       "      <td>1</td>\n",
       "      <td>0</td>\n",
       "      <td>1</td>\n",
       "      <td>0</td>\n",
       "      <td>0</td>\n",
       "    </tr>\n",
       "    <tr>\n",
       "      <th>23755</th>\n",
       "      <td>0.5</td>\n",
       "      <td>0.5</td>\n",
       "      <td>0</td>\n",
       "      <td>0</td>\n",
       "      <td>0</td>\n",
       "      <td>0</td>\n",
       "      <td>0</td>\n",
       "      <td>0</td>\n",
       "      <td>0</td>\n",
       "      <td>0</td>\n",
       "      <td>...</td>\n",
       "      <td>1.0</td>\n",
       "      <td>0.0</td>\n",
       "      <td>0</td>\n",
       "      <td>1</td>\n",
       "      <td>0</td>\n",
       "      <td>1</td>\n",
       "      <td>0</td>\n",
       "      <td>1</td>\n",
       "      <td>0</td>\n",
       "      <td>1</td>\n",
       "    </tr>\n",
       "    <tr>\n",
       "      <th>23756</th>\n",
       "      <td>0.5</td>\n",
       "      <td>0.5</td>\n",
       "      <td>0</td>\n",
       "      <td>0</td>\n",
       "      <td>0</td>\n",
       "      <td>0</td>\n",
       "      <td>1</td>\n",
       "      <td>0</td>\n",
       "      <td>0</td>\n",
       "      <td>0</td>\n",
       "      <td>...</td>\n",
       "      <td>1.0</td>\n",
       "      <td>0.0</td>\n",
       "      <td>0</td>\n",
       "      <td>1</td>\n",
       "      <td>0</td>\n",
       "      <td>1</td>\n",
       "      <td>0</td>\n",
       "      <td>1</td>\n",
       "      <td>0</td>\n",
       "      <td>0</td>\n",
       "    </tr>\n",
       "    <tr>\n",
       "      <th>23757</th>\n",
       "      <td>0.5</td>\n",
       "      <td>0.5</td>\n",
       "      <td>0</td>\n",
       "      <td>0</td>\n",
       "      <td>0</td>\n",
       "      <td>0</td>\n",
       "      <td>0</td>\n",
       "      <td>0</td>\n",
       "      <td>0</td>\n",
       "      <td>0</td>\n",
       "      <td>...</td>\n",
       "      <td>1.0</td>\n",
       "      <td>0.0</td>\n",
       "      <td>0</td>\n",
       "      <td>1</td>\n",
       "      <td>0</td>\n",
       "      <td>1</td>\n",
       "      <td>0</td>\n",
       "      <td>1</td>\n",
       "      <td>0</td>\n",
       "      <td>1</td>\n",
       "    </tr>\n",
       "    <tr>\n",
       "      <th>23758</th>\n",
       "      <td>0.5</td>\n",
       "      <td>0.5</td>\n",
       "      <td>0</td>\n",
       "      <td>0</td>\n",
       "      <td>0</td>\n",
       "      <td>0</td>\n",
       "      <td>0</td>\n",
       "      <td>0</td>\n",
       "      <td>1</td>\n",
       "      <td>0</td>\n",
       "      <td>...</td>\n",
       "      <td>1.0</td>\n",
       "      <td>0.0</td>\n",
       "      <td>0</td>\n",
       "      <td>1</td>\n",
       "      <td>0</td>\n",
       "      <td>1</td>\n",
       "      <td>0</td>\n",
       "      <td>1</td>\n",
       "      <td>0</td>\n",
       "      <td>0</td>\n",
       "    </tr>\n",
       "    <tr>\n",
       "      <th>23759</th>\n",
       "      <td>0.5</td>\n",
       "      <td>0.5</td>\n",
       "      <td>0</td>\n",
       "      <td>0</td>\n",
       "      <td>0</td>\n",
       "      <td>0</td>\n",
       "      <td>0</td>\n",
       "      <td>0</td>\n",
       "      <td>0</td>\n",
       "      <td>0</td>\n",
       "      <td>...</td>\n",
       "      <td>1.0</td>\n",
       "      <td>0.0</td>\n",
       "      <td>0</td>\n",
       "      <td>1</td>\n",
       "      <td>0</td>\n",
       "      <td>1</td>\n",
       "      <td>0</td>\n",
       "      <td>1</td>\n",
       "      <td>0</td>\n",
       "      <td>1</td>\n",
       "    </tr>\n",
       "    <tr>\n",
       "      <th>23760</th>\n",
       "      <td>0.5</td>\n",
       "      <td>0.5</td>\n",
       "      <td>0</td>\n",
       "      <td>0</td>\n",
       "      <td>0</td>\n",
       "      <td>0</td>\n",
       "      <td>0</td>\n",
       "      <td>0</td>\n",
       "      <td>0</td>\n",
       "      <td>0</td>\n",
       "      <td>...</td>\n",
       "      <td>1.0</td>\n",
       "      <td>0.0</td>\n",
       "      <td>0</td>\n",
       "      <td>1</td>\n",
       "      <td>0</td>\n",
       "      <td>1</td>\n",
       "      <td>0</td>\n",
       "      <td>1</td>\n",
       "      <td>0</td>\n",
       "      <td>0</td>\n",
       "    </tr>\n",
       "    <tr>\n",
       "      <th>23761</th>\n",
       "      <td>0.5</td>\n",
       "      <td>0.5</td>\n",
       "      <td>0</td>\n",
       "      <td>0</td>\n",
       "      <td>0</td>\n",
       "      <td>0</td>\n",
       "      <td>0</td>\n",
       "      <td>0</td>\n",
       "      <td>0</td>\n",
       "      <td>0</td>\n",
       "      <td>...</td>\n",
       "      <td>1.0</td>\n",
       "      <td>0.0</td>\n",
       "      <td>0</td>\n",
       "      <td>1</td>\n",
       "      <td>0</td>\n",
       "      <td>1</td>\n",
       "      <td>0</td>\n",
       "      <td>1</td>\n",
       "      <td>0</td>\n",
       "      <td>1</td>\n",
       "    </tr>\n",
       "    <tr>\n",
       "      <th>23762</th>\n",
       "      <td>0.5</td>\n",
       "      <td>0.5</td>\n",
       "      <td>0</td>\n",
       "      <td>0</td>\n",
       "      <td>0</td>\n",
       "      <td>0</td>\n",
       "      <td>0</td>\n",
       "      <td>0</td>\n",
       "      <td>0</td>\n",
       "      <td>0</td>\n",
       "      <td>...</td>\n",
       "      <td>1.0</td>\n",
       "      <td>0.0</td>\n",
       "      <td>0</td>\n",
       "      <td>1</td>\n",
       "      <td>0</td>\n",
       "      <td>1</td>\n",
       "      <td>0</td>\n",
       "      <td>1</td>\n",
       "      <td>0</td>\n",
       "      <td>1</td>\n",
       "    </tr>\n",
       "    <tr>\n",
       "      <th>23763</th>\n",
       "      <td>0.5</td>\n",
       "      <td>0.5</td>\n",
       "      <td>0</td>\n",
       "      <td>0</td>\n",
       "      <td>0</td>\n",
       "      <td>0</td>\n",
       "      <td>0</td>\n",
       "      <td>0</td>\n",
       "      <td>0</td>\n",
       "      <td>0</td>\n",
       "      <td>...</td>\n",
       "      <td>1.0</td>\n",
       "      <td>0.0</td>\n",
       "      <td>0</td>\n",
       "      <td>1</td>\n",
       "      <td>0</td>\n",
       "      <td>1</td>\n",
       "      <td>0</td>\n",
       "      <td>1</td>\n",
       "      <td>0</td>\n",
       "      <td>0</td>\n",
       "    </tr>\n",
       "    <tr>\n",
       "      <th>23764</th>\n",
       "      <td>0.5</td>\n",
       "      <td>0.5</td>\n",
       "      <td>0</td>\n",
       "      <td>0</td>\n",
       "      <td>0</td>\n",
       "      <td>0</td>\n",
       "      <td>0</td>\n",
       "      <td>0</td>\n",
       "      <td>0</td>\n",
       "      <td>0</td>\n",
       "      <td>...</td>\n",
       "      <td>0.0</td>\n",
       "      <td>1.0</td>\n",
       "      <td>0</td>\n",
       "      <td>1</td>\n",
       "      <td>0</td>\n",
       "      <td>1</td>\n",
       "      <td>0</td>\n",
       "      <td>1</td>\n",
       "      <td>0</td>\n",
       "      <td>0</td>\n",
       "    </tr>\n",
       "    <tr>\n",
       "      <th>23765</th>\n",
       "      <td>0.5</td>\n",
       "      <td>0.5</td>\n",
       "      <td>0</td>\n",
       "      <td>0</td>\n",
       "      <td>0</td>\n",
       "      <td>0</td>\n",
       "      <td>0</td>\n",
       "      <td>0</td>\n",
       "      <td>0</td>\n",
       "      <td>0</td>\n",
       "      <td>...</td>\n",
       "      <td>0.0</td>\n",
       "      <td>1.0</td>\n",
       "      <td>0</td>\n",
       "      <td>1</td>\n",
       "      <td>0</td>\n",
       "      <td>1</td>\n",
       "      <td>0</td>\n",
       "      <td>1</td>\n",
       "      <td>0</td>\n",
       "      <td>1</td>\n",
       "    </tr>\n",
       "    <tr>\n",
       "      <th>23766</th>\n",
       "      <td>0.5</td>\n",
       "      <td>0.5</td>\n",
       "      <td>0</td>\n",
       "      <td>0</td>\n",
       "      <td>0</td>\n",
       "      <td>0</td>\n",
       "      <td>0</td>\n",
       "      <td>0</td>\n",
       "      <td>0</td>\n",
       "      <td>0</td>\n",
       "      <td>...</td>\n",
       "      <td>0.0</td>\n",
       "      <td>0.0</td>\n",
       "      <td>0</td>\n",
       "      <td>1</td>\n",
       "      <td>0</td>\n",
       "      <td>1</td>\n",
       "      <td>0</td>\n",
       "      <td>1</td>\n",
       "      <td>0</td>\n",
       "      <td>1</td>\n",
       "    </tr>\n",
       "    <tr>\n",
       "      <th>23767</th>\n",
       "      <td>0.5</td>\n",
       "      <td>0.5</td>\n",
       "      <td>0</td>\n",
       "      <td>0</td>\n",
       "      <td>0</td>\n",
       "      <td>0</td>\n",
       "      <td>0</td>\n",
       "      <td>0</td>\n",
       "      <td>0</td>\n",
       "      <td>1</td>\n",
       "      <td>...</td>\n",
       "      <td>0.0</td>\n",
       "      <td>0.0</td>\n",
       "      <td>0</td>\n",
       "      <td>1</td>\n",
       "      <td>0</td>\n",
       "      <td>1</td>\n",
       "      <td>0</td>\n",
       "      <td>1</td>\n",
       "      <td>0</td>\n",
       "      <td>0</td>\n",
       "    </tr>\n",
       "    <tr>\n",
       "      <th>23768</th>\n",
       "      <td>0.5</td>\n",
       "      <td>0.5</td>\n",
       "      <td>0</td>\n",
       "      <td>0</td>\n",
       "      <td>0</td>\n",
       "      <td>0</td>\n",
       "      <td>0</td>\n",
       "      <td>1</td>\n",
       "      <td>0</td>\n",
       "      <td>0</td>\n",
       "      <td>...</td>\n",
       "      <td>1.0</td>\n",
       "      <td>0.0</td>\n",
       "      <td>0</td>\n",
       "      <td>1</td>\n",
       "      <td>0</td>\n",
       "      <td>1</td>\n",
       "      <td>0</td>\n",
       "      <td>1</td>\n",
       "      <td>0</td>\n",
       "      <td>0</td>\n",
       "    </tr>\n",
       "    <tr>\n",
       "      <th>23769</th>\n",
       "      <td>0.5</td>\n",
       "      <td>0.5</td>\n",
       "      <td>0</td>\n",
       "      <td>0</td>\n",
       "      <td>0</td>\n",
       "      <td>0</td>\n",
       "      <td>0</td>\n",
       "      <td>0</td>\n",
       "      <td>0</td>\n",
       "      <td>0</td>\n",
       "      <td>...</td>\n",
       "      <td>1.0</td>\n",
       "      <td>0.0</td>\n",
       "      <td>0</td>\n",
       "      <td>1</td>\n",
       "      <td>0</td>\n",
       "      <td>1</td>\n",
       "      <td>0</td>\n",
       "      <td>1</td>\n",
       "      <td>0</td>\n",
       "      <td>1</td>\n",
       "    </tr>\n",
       "    <tr>\n",
       "      <th>23770</th>\n",
       "      <td>0.5</td>\n",
       "      <td>0.5</td>\n",
       "      <td>0</td>\n",
       "      <td>0</td>\n",
       "      <td>0</td>\n",
       "      <td>0</td>\n",
       "      <td>0</td>\n",
       "      <td>0</td>\n",
       "      <td>0</td>\n",
       "      <td>0</td>\n",
       "      <td>...</td>\n",
       "      <td>0.0</td>\n",
       "      <td>1.0</td>\n",
       "      <td>0</td>\n",
       "      <td>1</td>\n",
       "      <td>0</td>\n",
       "      <td>0</td>\n",
       "      <td>1</td>\n",
       "      <td>1</td>\n",
       "      <td>0</td>\n",
       "      <td>1</td>\n",
       "    </tr>\n",
       "    <tr>\n",
       "      <th>23771</th>\n",
       "      <td>0.5</td>\n",
       "      <td>0.5</td>\n",
       "      <td>0</td>\n",
       "      <td>0</td>\n",
       "      <td>0</td>\n",
       "      <td>0</td>\n",
       "      <td>0</td>\n",
       "      <td>0</td>\n",
       "      <td>0</td>\n",
       "      <td>0</td>\n",
       "      <td>...</td>\n",
       "      <td>0.0</td>\n",
       "      <td>1.0</td>\n",
       "      <td>0</td>\n",
       "      <td>1</td>\n",
       "      <td>0</td>\n",
       "      <td>0</td>\n",
       "      <td>1</td>\n",
       "      <td>1</td>\n",
       "      <td>0</td>\n",
       "      <td>0</td>\n",
       "    </tr>\n",
       "    <tr>\n",
       "      <th>23772</th>\n",
       "      <td>0.5</td>\n",
       "      <td>0.5</td>\n",
       "      <td>0</td>\n",
       "      <td>0</td>\n",
       "      <td>0</td>\n",
       "      <td>0</td>\n",
       "      <td>0</td>\n",
       "      <td>0</td>\n",
       "      <td>0</td>\n",
       "      <td>0</td>\n",
       "      <td>...</td>\n",
       "      <td>1.0</td>\n",
       "      <td>0.0</td>\n",
       "      <td>0</td>\n",
       "      <td>1</td>\n",
       "      <td>0</td>\n",
       "      <td>0</td>\n",
       "      <td>1</td>\n",
       "      <td>1</td>\n",
       "      <td>0</td>\n",
       "      <td>1</td>\n",
       "    </tr>\n",
       "    <tr>\n",
       "      <th>23773</th>\n",
       "      <td>0.5</td>\n",
       "      <td>0.5</td>\n",
       "      <td>0</td>\n",
       "      <td>0</td>\n",
       "      <td>0</td>\n",
       "      <td>0</td>\n",
       "      <td>0</td>\n",
       "      <td>0</td>\n",
       "      <td>0</td>\n",
       "      <td>0</td>\n",
       "      <td>...</td>\n",
       "      <td>1.0</td>\n",
       "      <td>0.0</td>\n",
       "      <td>0</td>\n",
       "      <td>1</td>\n",
       "      <td>0</td>\n",
       "      <td>0</td>\n",
       "      <td>1</td>\n",
       "      <td>1</td>\n",
       "      <td>0</td>\n",
       "      <td>0</td>\n",
       "    </tr>\n",
       "  </tbody>\n",
       "</table>\n",
       "<p>20 rows × 50 columns</p>\n",
       "</div>"
      ],
      "text/plain": [
       "       cumulative_win_percent  opp_win_percent  Miami Dolphins  \\\n",
       "23754                     0.5              0.5               0   \n",
       "23755                     0.5              0.5               0   \n",
       "23756                     0.5              0.5               0   \n",
       "23757                     0.5              0.5               0   \n",
       "23758                     0.5              0.5               0   \n",
       "23759                     0.5              0.5               0   \n",
       "23760                     0.5              0.5               0   \n",
       "23761                     0.5              0.5               0   \n",
       "23762                     0.5              0.5               0   \n",
       "23763                     0.5              0.5               0   \n",
       "23764                     0.5              0.5               0   \n",
       "23765                     0.5              0.5               0   \n",
       "23766                     0.5              0.5               0   \n",
       "23767                     0.5              0.5               0   \n",
       "23768                     0.5              0.5               0   \n",
       "23769                     0.5              0.5               0   \n",
       "23770                     0.5              0.5               0   \n",
       "23771                     0.5              0.5               0   \n",
       "23772                     0.5              0.5               0   \n",
       "23773                     0.5              0.5               0   \n",
       "\n",
       "       Oakland Raiders  Denver Broncos  San Diego Chargers  Buffalo Bills  \\\n",
       "23754                0               0                   0              0   \n",
       "23755                0               0                   0              0   \n",
       "23756                0               0                   0              1   \n",
       "23757                0               0                   0              0   \n",
       "23758                0               0                   0              0   \n",
       "23759                0               0                   0              0   \n",
       "23760                0               0                   0              0   \n",
       "23761                0               0                   0              0   \n",
       "23762                0               0                   0              0   \n",
       "23763                0               0                   0              0   \n",
       "23764                0               0                   0              0   \n",
       "23765                0               0                   0              0   \n",
       "23766                0               0                   0              0   \n",
       "23767                0               0                   0              0   \n",
       "23768                0               0                   0              0   \n",
       "23769                0               0                   0              0   \n",
       "23770                0               0                   0              0   \n",
       "23771                0               0                   0              0   \n",
       "23772                0               0                   0              0   \n",
       "23773                0               0                   0              0   \n",
       "\n",
       "       Green Bay Packers  Atlanta Falcons  Detroit Lions      ...        \\\n",
       "23754                  0                0              0      ...         \n",
       "23755                  0                0              0      ...         \n",
       "23756                  0                0              0      ...         \n",
       "23757                  0                0              0      ...         \n",
       "23758                  0                1              0      ...         \n",
       "23759                  0                0              0      ...         \n",
       "23760                  0                0              0      ...         \n",
       "23761                  0                0              0      ...         \n",
       "23762                  0                0              0      ...         \n",
       "23763                  0                0              0      ...         \n",
       "23764                  0                0              0      ...         \n",
       "23765                  0                0              0      ...         \n",
       "23766                  0                0              0      ...         \n",
       "23767                  0                0              1      ...         \n",
       "23768                  1                0              0      ...         \n",
       "23769                  0                0              0      ...         \n",
       "23770                  0                0              0      ...         \n",
       "23771                  0                0              0      ...         \n",
       "23772                  0                0              0      ...         \n",
       "23773                  0                0              0      ...         \n",
       "\n",
       "       stadium_outdoors  stadium_retractable  stadium_neutral_true  \\\n",
       "23754               1.0                  0.0                     0   \n",
       "23755               1.0                  0.0                     0   \n",
       "23756               1.0                  0.0                     0   \n",
       "23757               1.0                  0.0                     0   \n",
       "23758               1.0                  0.0                     0   \n",
       "23759               1.0                  0.0                     0   \n",
       "23760               1.0                  0.0                     0   \n",
       "23761               1.0                  0.0                     0   \n",
       "23762               1.0                  0.0                     0   \n",
       "23763               1.0                  0.0                     0   \n",
       "23764               0.0                  1.0                     0   \n",
       "23765               0.0                  1.0                     0   \n",
       "23766               0.0                  0.0                     0   \n",
       "23767               0.0                  0.0                     0   \n",
       "23768               1.0                  0.0                     0   \n",
       "23769               1.0                  0.0                     0   \n",
       "23770               0.0                  1.0                     0   \n",
       "23771               0.0                  1.0                     0   \n",
       "23772               1.0                  0.0                     0   \n",
       "23773               1.0                  0.0                     0   \n",
       "\n",
       "       stadium_neutral_false  temp_below_32  temp_32_to_80  temp_above_80  \\\n",
       "23754                      1              0              1              0   \n",
       "23755                      1              0              1              0   \n",
       "23756                      1              0              1              0   \n",
       "23757                      1              0              1              0   \n",
       "23758                      1              0              1              0   \n",
       "23759                      1              0              1              0   \n",
       "23760                      1              0              1              0   \n",
       "23761                      1              0              1              0   \n",
       "23762                      1              0              1              0   \n",
       "23763                      1              0              1              0   \n",
       "23764                      1              0              1              0   \n",
       "23765                      1              0              1              0   \n",
       "23766                      1              0              1              0   \n",
       "23767                      1              0              1              0   \n",
       "23768                      1              0              1              0   \n",
       "23769                      1              0              1              0   \n",
       "23770                      1              0              0              1   \n",
       "23771                      1              0              0              1   \n",
       "23772                      1              0              0              1   \n",
       "23773                      1              0              0              1   \n",
       "\n",
       "       wind_below_15  wind_GTE_15  win_lose_draw  \n",
       "23754              1            0              0  \n",
       "23755              1            0              1  \n",
       "23756              1            0              0  \n",
       "23757              1            0              1  \n",
       "23758              1            0              0  \n",
       "23759              1            0              1  \n",
       "23760              1            0              0  \n",
       "23761              1            0              1  \n",
       "23762              1            0              1  \n",
       "23763              1            0              0  \n",
       "23764              1            0              0  \n",
       "23765              1            0              1  \n",
       "23766              1            0              1  \n",
       "23767              1            0              0  \n",
       "23768              1            0              0  \n",
       "23769              1            0              1  \n",
       "23770              1            0              1  \n",
       "23771              1            0              0  \n",
       "23772              1            0              1  \n",
       "23773              1            0              0  \n",
       "\n",
       "[20 rows x 50 columns]"
      ]
     },
     "execution_count": 9,
     "metadata": {},
     "output_type": "execute_result"
    }
   ],
   "source": [
    "# Drop rows with NaN in testing data\n",
    "games_test_filtered.dropna(inplace=True)\n",
    "games_test_filtered.head(20)"
   ]
  },
  {
   "cell_type": "markdown",
   "metadata": {
    "slideshow": {
     "slide_type": "slide"
    }
   },
   "source": [
    "## Correlation Matrix\n",
    "\n",
    "### -- Purpose - Visualize correlations between feature pairs\n",
    "### -- Difficult to glean useful information from this visualization\n",
    "### -- Data is almost entirely one hot encoded (0s and 1s)"
   ]
  },
  {
   "cell_type": "code",
   "execution_count": 10,
   "metadata": {
    "scrolled": false,
    "slideshow": {
     "slide_type": "subslide"
    }
   },
   "outputs": [
    {
     "data": {
      "image/png": "[encoded data removed]",
      "text/plain": [
       "<Figure size 1800x1440 with 2 Axes>"
      ]
     },
     "metadata": {
      "needs_background": "light"
     },
     "output_type": "display_data"
    }
   ],
   "source": [
    "# Create correlation matrix to analyze correlations among pairs of features\n",
    "names = games_train_filtered.columns[:-1]\n",
    "correlations = games_train_filtered.corr()\n",
    "fig = plt.figure(figsize = [25,20])\n",
    "ax = fig.add_subplot(111)\n",
    "cax = ax.matshow(correlations, vmin=-1, vmax=1)\n",
    "fig.colorbar(cax)\n",
    "ticks = np.arange(0,len(correlations.columns),1)\n",
    "ax.set_xticks(ticks)\n",
    "ax.set_yticks(ticks)\n",
    "ax.set_xticklabels(correlations.columns, rotation = 90)\n",
    "ax.set_yticklabels(correlations.columns)\n",
    "plt.show()"
   ]
  },
  {
   "cell_type": "code",
   "execution_count": 11,
   "metadata": {
    "slideshow": {
     "slide_type": "subslide"
    }
   },
   "outputs": [
    {
     "data": {
      "image/png": "[encoded data removed]",
      "text/plain": [
       "<Figure size 1800x1440 with 2 Axes>"
      ]
     },
     "metadata": {
      "needs_background": "light"
     },
     "output_type": "display_data"
    }
   ],
   "source": [
    "# Zoom in on columns that have more interesting activity from above visaulization\n",
    "zoom_in_on_columns = ['Away', 'Home', 'Favorite_to_Win']\n",
    "simpler_correlations = correlations.loc[zoom_in_on_columns, zoom_in_on_columns]\n",
    "\n",
    "fig = plt.figure(figsize = [25,20])\n",
    "ax = fig.add_subplot(111)\n",
    "cax = ax.matshow(simpler_correlations, vmin=-1, vmax=1)\n",
    "fig.colorbar(cax)\n",
    "ticks = np.arange(0,len(simpler_correlations.columns),1)\n",
    "ax.set_xticks(ticks)\n",
    "ax.set_yticks(ticks)\n",
    "ax.set_xticklabels(simpler_correlations.columns, rotation = 90, fontsize = 14)\n",
    "ax.set_yticklabels(simpler_correlations.columns, fontsize = 14)\n",
    "plt.show()"
   ]
  },
  {
   "cell_type": "markdown",
   "metadata": {
    "slideshow": {
     "slide_type": "slide"
    }
   },
   "source": [
    "## Final Splitting of Data into X and y\n",
    "\n",
    "### -- Have training and test dataframes\n",
    "### -- Not yet split into an X or a y\n",
    "### -- Finish by scaling data"
   ]
  },
  {
   "cell_type": "code",
   "execution_count": 12,
   "metadata": {
    "slideshow": {
     "slide_type": "subslide"
    }
   },
   "outputs": [
    {
     "name": "stdout",
     "output_type": "stream",
     "text": [
      "(4140, 49) (4140, 1)\n"
     ]
    }
   ],
   "source": [
    "# win_lose_draw is the y column\n",
    "X_train = games_train_filtered.drop(\"win_lose_draw\", axis=1)\n",
    "y_train = games_train_filtered[\"win_lose_draw\"].values.reshape(-1, 1)\n",
    "print(X_train.shape, y_train.shape)"
   ]
  },
  {
   "cell_type": "code",
   "execution_count": 13,
   "metadata": {
    "slideshow": {
     "slide_type": "subslide"
    }
   },
   "outputs": [
    {
     "name": "stdout",
     "output_type": "stream",
     "text": [
      "(1004, 49) (1004, 1)\n"
     ]
    }
   ],
   "source": [
    "# win_lose_draw is the y column\n",
    "X_test = games_test_filtered.drop(\"win_lose_draw\", axis=1)\n",
    "y_test = games_test_filtered[\"win_lose_draw\"].values.reshape(-1, 1)\n",
    "print(X_test.shape, y_test.shape)"
   ]
  },
  {
   "cell_type": "code",
   "execution_count": 14,
   "metadata": {
    "slideshow": {
     "slide_type": "subslide"
    }
   },
   "outputs": [],
   "source": [
    "# scale X data\n",
    "from sklearn.preprocessing import LabelEncoder, MinMaxScaler\n",
    "\n",
    "X_scaler = MinMaxScaler().fit(X_train)\n",
    "X_train_scaled = X_scaler.transform(X_train)\n",
    "X_test_scaled = X_scaler.transform(X_test)"
   ]
  },
  {
   "cell_type": "markdown",
   "metadata": {
    "slideshow": {
     "slide_type": "slide"
    }
   },
   "source": [
    "# 3. Logistic Regression"
   ]
  },
  {
   "cell_type": "markdown",
   "metadata": {
    "slideshow": {
     "slide_type": "subslide"
    }
   },
   "source": [
    "## -- Typically used for binary dependent variable (0 or 1)\n",
    "\n",
    "## -- With more than two outcomes, becomes multinomial logistic regression\n",
    "\n",
    "## -- Our possible outcomes are 0, 1, or 2 (win, lose, or draw)\n",
    "\n",
    "## -- Code in python works the same"
   ]
  },
  {
   "cell_type": "code",
   "execution_count": 15,
   "metadata": {
    "slideshow": {
     "slide_type": "subslide"
    }
   },
   "outputs": [
    {
     "data": {
      "text/plain": [
       "LogisticRegression(C=1.0, class_weight=None, dual=False, fit_intercept=True,\n",
       "          intercept_scaling=1, max_iter=100, multi_class='warn',\n",
       "          n_jobs=None, penalty='l2', random_state=None, solver='warn',\n",
       "          tol=0.0001, verbose=0, warm_start=False)"
      ]
     },
     "execution_count": 15,
     "metadata": {},
     "output_type": "execute_result"
    }
   ],
   "source": [
    "# Create a logistic regression model\n",
    "\n",
    "from sklearn.linear_model import LogisticRegression\n",
    "classifier = LogisticRegression()\n",
    "classifier"
   ]
  },
  {
   "cell_type": "code",
   "execution_count": 16,
   "metadata": {
    "slideshow": {
     "slide_type": "subslide"
    }
   },
   "outputs": [
    {
     "data": {
      "text/plain": [
       "LogisticRegression(C=1.0, class_weight=None, dual=False, fit_intercept=True,\n",
       "          intercept_scaling=1, max_iter=100, multi_class='warn',\n",
       "          n_jobs=None, penalty='l2', random_state=None, solver='warn',\n",
       "          tol=0.0001, verbose=0, warm_start=False)"
      ]
     },
     "execution_count": 16,
     "metadata": {},
     "output_type": "execute_result"
    }
   ],
   "source": [
    "# Fit the data\n",
    "classifier.fit(X_train_scaled, y_train)"
   ]
  },
  {
   "cell_type": "code",
   "execution_count": 17,
   "metadata": {
    "scrolled": true,
    "slideshow": {
     "slide_type": "subslide"
    }
   },
   "outputs": [
    {
     "name": "stdout",
     "output_type": "stream",
     "text": [
      "Logistic Regression score on train data is 0.6620772946859903\n",
      "Logistic Regression score on test data is 0.6703187250996016\n"
     ]
    }
   ],
   "source": [
    "# Score the data\n",
    "logistic_train_score = classifier.score(X_train_scaled, y_train)\n",
    "logistic_test_score = classifier.score(X_test_scaled, y_test)\n",
    "print(f'Logistic Regression score on train data is {logistic_train_score}')\n",
    "print(f'Logistic Regression score on test data is {logistic_test_score}')"
   ]
  },
  {
   "cell_type": "markdown",
   "metadata": {
    "slideshow": {
     "slide_type": "slide"
    }
   },
   "source": [
    "## Detour - To Use the Vegas Data or Not?\n",
    "\n",
    "### -- With Vegas data included in features, score is 67%\n",
    "\n",
    "### -- Problematic to use Vegas data?\n",
    "\n",
    "### -- What is the score when excluding the Vegas data?"
   ]
  },
  {
   "cell_type": "code",
   "execution_count": 18,
   "metadata": {
    "slideshow": {
     "slide_type": "subslide"
    }
   },
   "outputs": [
    {
     "data": {
      "text/plain": [
       "(4140, 46)"
      ]
     },
     "execution_count": 18,
     "metadata": {},
     "output_type": "execute_result"
    }
   ],
   "source": [
    "# Re-do training data, this time with no Vegas columns\n",
    "X_train_no_vegas = X_train.drop(['Favorite_to_Win', 'Favorite_to_Lose', 'spread_favorite_clean'], axis=1)\n",
    "X_train_no_vegas.shape"
   ]
  },
  {
   "cell_type": "code",
   "execution_count": 19,
   "metadata": {
    "slideshow": {
     "slide_type": "subslide"
    }
   },
   "outputs": [
    {
     "data": {
      "text/plain": [
       "(1004, 46)"
      ]
     },
     "execution_count": 19,
     "metadata": {},
     "output_type": "execute_result"
    }
   ],
   "source": [
    "# Re-do testing data, this time with no Vegas columns\n",
    "X_test_no_vegas = X_test.drop(['Favorite_to_Win', 'Favorite_to_Lose', 'spread_favorite_clean'], axis=1)\n",
    "X_test_no_vegas.shape"
   ]
  },
  {
   "cell_type": "code",
   "execution_count": 20,
   "metadata": {
    "slideshow": {
     "slide_type": "subslide"
    }
   },
   "outputs": [],
   "source": [
    "# Scale the data\n",
    "X_scaler_no_vegas = MinMaxScaler().fit(X_train_no_vegas)\n",
    "X_train_no_vegas_scaled = X_scaler_no_vegas.transform(X_train_no_vegas)\n",
    "X_test_no_vegas_scaled = X_scaler_no_vegas.transform(X_test_no_vegas)"
   ]
  },
  {
   "cell_type": "code",
   "execution_count": 21,
   "metadata": {
    "slideshow": {
     "slide_type": "subslide"
    }
   },
   "outputs": [
    {
     "data": {
      "text/plain": [
       "LogisticRegression(C=1.0, class_weight=None, dual=False, fit_intercept=True,\n",
       "          intercept_scaling=1, max_iter=100, multi_class='warn',\n",
       "          n_jobs=None, penalty='l2', random_state=None, solver='warn',\n",
       "          tol=0.0001, verbose=0, warm_start=False)"
      ]
     },
     "execution_count": 21,
     "metadata": {},
     "output_type": "execute_result"
    }
   ],
   "source": [
    "# Re-do logistic regression with non-vegas data\n",
    "classifier_no_vegas = LogisticRegression()\n",
    "classifier_no_vegas"
   ]
  },
  {
   "cell_type": "code",
   "execution_count": 22,
   "metadata": {
    "slideshow": {
     "slide_type": "subslide"
    }
   },
   "outputs": [
    {
     "data": {
      "text/plain": [
       "LogisticRegression(C=1.0, class_weight=None, dual=False, fit_intercept=True,\n",
       "          intercept_scaling=1, max_iter=100, multi_class='warn',\n",
       "          n_jobs=None, penalty='l2', random_state=None, solver='warn',\n",
       "          tol=0.0001, verbose=0, warm_start=False)"
      ]
     },
     "execution_count": 22,
     "metadata": {},
     "output_type": "execute_result"
    }
   ],
   "source": [
    "# Fit\n",
    "classifier_no_vegas.fit(X_train_no_vegas_scaled, y_train)"
   ]
  },
  {
   "cell_type": "code",
   "execution_count": 23,
   "metadata": {
    "slideshow": {
     "slide_type": "subslide"
    }
   },
   "outputs": [
    {
     "name": "stdout",
     "output_type": "stream",
     "text": [
      "Logistic Regression score on train data (no Vegas) is 0.628743961352657\n",
      "Logistic Regression score on test data (no Vegas) is 0.6105577689243028\n"
     ]
    }
   ],
   "source": [
    "# Score\n",
    "print(f'Logistic Regression score on train data (no Vegas) is {classifier_no_vegas.score(X_train_no_vegas_scaled, y_train)}')\n",
    "print(f'Logistic Regression score on test data (no Vegas) is {classifier_no_vegas.score(X_test_no_vegas_scaled, y_test)}')"
   ]
  },
  {
   "cell_type": "markdown",
   "metadata": {
    "slideshow": {
     "slide_type": "slide"
    }
   },
   "source": [
    "## Vegas Data or Not?\n",
    "\n",
    "#### -- With Vegas data, score is 67%\n",
    "\n",
    "#### -- No Vegas data, score is 61%\n",
    "\n",
    "#### -- Vegas data probably includes player-specific information that we do not have access to\n",
    "\n",
    "#### -- Vegas data is available prior to each week's games\n",
    "\n",
    "## Conclusion:  Use Vegas Data\n",
    "\n"
   ]
  },
  {
   "cell_type": "markdown",
   "metadata": {
    "slideshow": {
     "slide_type": "slide"
    }
   },
   "source": [
    "## Logistic Regression Results"
   ]
  },
  {
   "cell_type": "code",
   "execution_count": 24,
   "metadata": {
    "slideshow": {
     "slide_type": "subslide"
    }
   },
   "outputs": [
    {
     "data": {
      "text/html": [
       "<div>\n",
       "<style scoped>\n",
       "    .dataframe tbody tr th:only-of-type {\n",
       "        vertical-align: middle;\n",
       "    }\n",
       "\n",
       "    .dataframe tbody tr th {\n",
       "        vertical-align: top;\n",
       "    }\n",
       "\n",
       "    .dataframe thead th {\n",
       "        text-align: right;\n",
       "    }\n",
       "</style>\n",
       "<table border=\"1\" class=\"dataframe\">\n",
       "  <thead>\n",
       "    <tr style=\"text-align: right;\">\n",
       "      <th></th>\n",
       "      <th>Prediction</th>\n",
       "      <th>Actual</th>\n",
       "      <th>Correct</th>\n",
       "    </tr>\n",
       "  </thead>\n",
       "  <tbody>\n",
       "    <tr>\n",
       "      <th>0</th>\n",
       "      <td>1</td>\n",
       "      <td>0</td>\n",
       "      <td>False</td>\n",
       "    </tr>\n",
       "    <tr>\n",
       "      <th>1</th>\n",
       "      <td>0</td>\n",
       "      <td>1</td>\n",
       "      <td>False</td>\n",
       "    </tr>\n",
       "    <tr>\n",
       "      <th>2</th>\n",
       "      <td>0</td>\n",
       "      <td>0</td>\n",
       "      <td>True</td>\n",
       "    </tr>\n",
       "    <tr>\n",
       "      <th>3</th>\n",
       "      <td>1</td>\n",
       "      <td>1</td>\n",
       "      <td>True</td>\n",
       "    </tr>\n",
       "    <tr>\n",
       "      <th>4</th>\n",
       "      <td>0</td>\n",
       "      <td>0</td>\n",
       "      <td>True</td>\n",
       "    </tr>\n",
       "    <tr>\n",
       "      <th>5</th>\n",
       "      <td>1</td>\n",
       "      <td>1</td>\n",
       "      <td>True</td>\n",
       "    </tr>\n",
       "    <tr>\n",
       "      <th>6</th>\n",
       "      <td>1</td>\n",
       "      <td>0</td>\n",
       "      <td>False</td>\n",
       "    </tr>\n",
       "    <tr>\n",
       "      <th>7</th>\n",
       "      <td>0</td>\n",
       "      <td>1</td>\n",
       "      <td>False</td>\n",
       "    </tr>\n",
       "    <tr>\n",
       "      <th>8</th>\n",
       "      <td>1</td>\n",
       "      <td>1</td>\n",
       "      <td>True</td>\n",
       "    </tr>\n",
       "    <tr>\n",
       "      <th>9</th>\n",
       "      <td>0</td>\n",
       "      <td>0</td>\n",
       "      <td>True</td>\n",
       "    </tr>\n",
       "    <tr>\n",
       "      <th>10</th>\n",
       "      <td>0</td>\n",
       "      <td>0</td>\n",
       "      <td>True</td>\n",
       "    </tr>\n",
       "    <tr>\n",
       "      <th>11</th>\n",
       "      <td>1</td>\n",
       "      <td>1</td>\n",
       "      <td>True</td>\n",
       "    </tr>\n",
       "    <tr>\n",
       "      <th>12</th>\n",
       "      <td>0</td>\n",
       "      <td>1</td>\n",
       "      <td>False</td>\n",
       "    </tr>\n",
       "    <tr>\n",
       "      <th>13</th>\n",
       "      <td>1</td>\n",
       "      <td>0</td>\n",
       "      <td>False</td>\n",
       "    </tr>\n",
       "    <tr>\n",
       "      <th>14</th>\n",
       "      <td>0</td>\n",
       "      <td>0</td>\n",
       "      <td>True</td>\n",
       "    </tr>\n",
       "  </tbody>\n",
       "</table>\n",
       "</div>"
      ],
      "text/plain": [
       "    Prediction  Actual  Correct\n",
       "0            1       0    False\n",
       "1            0       1    False\n",
       "2            0       0     True\n",
       "3            1       1     True\n",
       "4            0       0     True\n",
       "5            1       1     True\n",
       "6            1       0    False\n",
       "7            0       1    False\n",
       "8            1       1     True\n",
       "9            0       0     True\n",
       "10           0       0     True\n",
       "11           1       1     True\n",
       "12           0       1    False\n",
       "13           1       0    False\n",
       "14           0       0     True"
      ]
     },
     "execution_count": 24,
     "metadata": {},
     "output_type": "execute_result"
    }
   ],
   "source": [
    "# generate accuracy dataframe\n",
    "logistic_predictions = classifier.predict(X_test_scaled)\n",
    "logistic_accuracy = pd.DataFrame({\"Prediction\": list(logistic_predictions), \"Actual\": y_test.ravel()}).reset_index(drop=True)\n",
    "logistic_accuracy['Correct'] = logistic_accuracy.Prediction == logistic_accuracy.Actual\n",
    "logistic_accuracy.head(15)"
   ]
  },
  {
   "cell_type": "code",
   "execution_count": 25,
   "metadata": {
    "slideshow": {
     "slide_type": "subslide"
    }
   },
   "outputs": [
    {
     "data": {
      "text/html": [
       "<div>\n",
       "<style scoped>\n",
       "    .dataframe tbody tr th:only-of-type {\n",
       "        vertical-align: middle;\n",
       "    }\n",
       "\n",
       "    .dataframe tbody tr th {\n",
       "        vertical-align: top;\n",
       "    }\n",
       "\n",
       "    .dataframe thead th {\n",
       "        text-align: right;\n",
       "    }\n",
       "</style>\n",
       "<table border=\"1\" class=\"dataframe\">\n",
       "  <thead>\n",
       "    <tr style=\"text-align: right;\">\n",
       "      <th></th>\n",
       "      <th>Win</th>\n",
       "      <th>Lose</th>\n",
       "      <th>Draw</th>\n",
       "    </tr>\n",
       "    <tr>\n",
       "      <th>Actual</th>\n",
       "      <th></th>\n",
       "      <th></th>\n",
       "      <th></th>\n",
       "    </tr>\n",
       "  </thead>\n",
       "  <tbody>\n",
       "    <tr>\n",
       "      <th>Win</th>\n",
       "      <td>330</td>\n",
       "      <td>170</td>\n",
       "      <td>0</td>\n",
       "    </tr>\n",
       "    <tr>\n",
       "      <th>Lose</th>\n",
       "      <td>157</td>\n",
       "      <td>343</td>\n",
       "      <td>0</td>\n",
       "    </tr>\n",
       "    <tr>\n",
       "      <th>Draw</th>\n",
       "      <td>2</td>\n",
       "      <td>2</td>\n",
       "      <td>0</td>\n",
       "    </tr>\n",
       "  </tbody>\n",
       "</table>\n",
       "</div>"
      ],
      "text/plain": [
       "        Win  Lose  Draw\n",
       "Actual                 \n",
       "Win     330   170     0\n",
       "Lose    157   343     0\n",
       "Draw      2     2     0"
      ]
     },
     "execution_count": 25,
     "metadata": {},
     "output_type": "execute_result"
    }
   ],
   "source": [
    "# Create confusion matrix dataframe\n",
    "logistic_y_actu = pd.Series(y_test.ravel(), name='Actual')\n",
    "logistic_y_pred = pd.Series(logistic_predictions, name='Predicted')\n",
    "\n",
    "logistic_df_confusion = pd.crosstab(logistic_y_actu, logistic_y_pred)\n",
    "logistic_df_confusion.columns = ['Win', 'Lose']\n",
    "logistic_df_confusion.rename(index={\n",
    "    logistic_df_confusion.index[0]: 'Win',\n",
    "    logistic_df_confusion.index[1]: 'Lose',\n",
    "    logistic_df_confusion.index[2]: 'Draw'\n",
    "}, inplace=True)\n",
    "logistic_df_confusion['Draw'] = 0\n",
    "logistic_df_confusion"
   ]
  },
  {
   "cell_type": "code",
   "execution_count": 26,
   "metadata": {
    "slideshow": {
     "slide_type": "subslide"
    }
   },
   "outputs": [
    {
     "data": {
      "image/png": "[encoded data removed]",
      "text/plain": [
       "<Figure size 720x576 with 2 Axes>"
      ]
     },
     "metadata": {
      "needs_background": "light"
     },
     "output_type": "display_data"
    }
   ],
   "source": [
    "# Function call to generate Logistic Regression confusion visualization\n",
    "fig = plt.figure(figsize = (10,8))\n",
    "prep_confusion_visual(logistic_df_confusion, 111, logistic_test_score, 'Logistic Regression')\n",
    "plt.show()"
   ]
  },
  {
   "cell_type": "markdown",
   "metadata": {
    "slideshow": {
     "slide_type": "slide"
    }
   },
   "source": [
    "# 4.  Support Vector Machine (SVM)"
   ]
  },
  {
   "cell_type": "markdown",
   "metadata": {
    "slideshow": {
     "slide_type": "subslide"
    }
   },
   "source": [
    "## -- Can be used for both regression or classification (usually for classification)\n",
    "\n",
    "## -- Goal is to find hyperplane that maximizes distance between classes\n",
    "\n",
    "## -- Typically produces good results with relatively low computing resources\n",
    "\n",
    "![alt text](Images/svm_image.png \"SVM Image\")"
   ]
  },
  {
   "cell_type": "code",
   "execution_count": 27,
   "metadata": {
    "slideshow": {
     "slide_type": "subslide"
    }
   },
   "outputs": [
    {
     "data": {
      "text/plain": [
       "SVC(C=1.0, cache_size=200, class_weight=None, coef0=0.0,\n",
       "  decision_function_shape='ovr', degree=3, gamma='auto_deprecated',\n",
       "  kernel='linear', max_iter=-1, probability=False, random_state=None,\n",
       "  shrinking=True, tol=0.001, verbose=False)"
      ]
     },
     "execution_count": 27,
     "metadata": {},
     "output_type": "execute_result"
    }
   ],
   "source": [
    "# Create and train model\n",
    "\n",
    "from sklearn.svm import SVC\n",
    "\n",
    "svm_model = SVC(kernel='linear')\n",
    "svm_model.fit(X_train_scaled, y_train)"
   ]
  },
  {
   "cell_type": "code",
   "execution_count": 28,
   "metadata": {
    "slideshow": {
     "slide_type": "skip"
    }
   },
   "outputs": [
    {
     "name": "stdout",
     "output_type": "stream",
     "text": [
      "SVM score on train data is 0.6618357487922706\n",
      "SVM score on test data is 0.6723107569721115\n"
     ]
    }
   ],
   "source": [
    "# Score model\n",
    "\n",
    "svm_train_score = svm_model.score(X_train_scaled, y_train)\n",
    "svm_test_score = svm_model.score(X_test_scaled, y_test)\n",
    "\n",
    "print(f'SVM score on train data is {svm_train_score}')\n",
    "print(f'SVM score on test data is {svm_test_score}')"
   ]
  },
  {
   "cell_type": "code",
   "execution_count": 29,
   "metadata": {
    "slideshow": {
     "slide_type": "skip"
    }
   },
   "outputs": [],
   "source": [
    "# Grid search\n",
    "\n",
    "from sklearn.model_selection import GridSearchCV\n",
    "param_grid = {\n",
    "    'C': [1, 5, 10],\n",
    "    'gamma': [0.0001, 0.001, 0.01]\n",
    "}\n",
    "grid = GridSearchCV(svm_model, param_grid, verbose = 3)"
   ]
  },
  {
   "cell_type": "code",
   "execution_count": 30,
   "metadata": {
    "slideshow": {
     "slide_type": "skip"
    }
   },
   "outputs": [
    {
     "name": "stdout",
     "output_type": "stream",
     "text": [
      "Fitting 3 folds for each of 9 candidates, totalling 27 fits\n",
      "[CV] C=1, gamma=0.0001 ...............................................\n"
     ]
    },
    {
     "name": "stderr",
     "output_type": "stream",
     "text": [
      "[Parallel(n_jobs=1)]: Using backend SequentialBackend with 1 concurrent workers.\n"
     ]
    },
    {
     "name": "stdout",
     "output_type": "stream",
     "text": [
      "[CV] ...... C=1, gamma=0.0001, score=0.6642547033285094, total=   0.3s\n",
      "[CV] C=1, gamma=0.0001 ...............................................\n"
     ]
    },
    {
     "name": "stderr",
     "output_type": "stream",
     "text": [
      "[Parallel(n_jobs=1)]: Done   1 out of   1 | elapsed:    0.5s remaining:    0.0s\n"
     ]
    },
    {
     "name": "stdout",
     "output_type": "stream",
     "text": [
      "[CV] ...... C=1, gamma=0.0001, score=0.6613488034807832, total=   0.3s\n",
      "[CV] C=1, gamma=0.0001 ...............................................\n"
     ]
    },
    {
     "name": "stderr",
     "output_type": "stream",
     "text": [
      "[Parallel(n_jobs=1)]: Done   2 out of   2 | elapsed:    1.1s remaining:    0.0s\n"
     ]
    },
    {
     "name": "stdout",
     "output_type": "stream",
     "text": [
      "[CV] ...... C=1, gamma=0.0001, score=0.6598984771573604, total=   0.3s\n",
      "[CV] C=1, gamma=0.001 ................................................\n",
      "[CV] ....... C=1, gamma=0.001, score=0.6642547033285094, total=   0.3s\n",
      "[CV] C=1, gamma=0.001 ................................................\n",
      "[CV] ....... C=1, gamma=0.001, score=0.6613488034807832, total=   0.3s\n",
      "[CV] C=1, gamma=0.001 ................................................\n",
      "[CV] ....... C=1, gamma=0.001, score=0.6598984771573604, total=   0.3s\n",
      "[CV] C=1, gamma=0.01 .................................................\n",
      "[CV] ........ C=1, gamma=0.01, score=0.6642547033285094, total=   0.6s\n",
      "[CV] C=1, gamma=0.01 .................................................\n",
      "[CV] ........ C=1, gamma=0.01, score=0.6613488034807832, total=   0.3s\n",
      "[CV] C=1, gamma=0.01 .................................................\n",
      "[CV] ........ C=1, gamma=0.01, score=0.6598984771573604, total=   0.3s\n",
      "[CV] C=5, gamma=0.0001 ...............................................\n",
      "[CV] ....... C=5, gamma=0.0001, score=0.662807525325615, total=   0.3s\n",
      "[CV] C=5, gamma=0.0001 ...............................................\n",
      "[CV] ...... C=5, gamma=0.0001, score=0.6606236403190718, total=   0.3s\n",
      "[CV] C=5, gamma=0.0001 ...............................................\n",
      "[CV] ...... C=5, gamma=0.0001, score=0.6606236403190718, total=   0.4s\n",
      "[CV] C=5, gamma=0.001 ................................................\n",
      "[CV] ........ C=5, gamma=0.001, score=0.662807525325615, total=   0.3s\n",
      "[CV] C=5, gamma=0.001 ................................................\n",
      "[CV] ....... C=5, gamma=0.001, score=0.6606236403190718, total=   0.3s\n",
      "[CV] C=5, gamma=0.001 ................................................\n",
      "[CV] ....... C=5, gamma=0.001, score=0.6606236403190718, total=   0.3s\n",
      "[CV] C=5, gamma=0.01 .................................................\n",
      "[CV] ......... C=5, gamma=0.01, score=0.662807525325615, total=   0.3s\n",
      "[CV] C=5, gamma=0.01 .................................................\n",
      "[CV] ........ C=5, gamma=0.01, score=0.6606236403190718, total=   0.3s\n",
      "[CV] C=5, gamma=0.01 .................................................\n",
      "[CV] ........ C=5, gamma=0.01, score=0.6606236403190718, total=   0.3s\n",
      "[CV] C=10, gamma=0.0001 ..............................................\n",
      "[CV] ..... C=10, gamma=0.0001, score=0.6642547033285094, total=   0.4s\n",
      "[CV] C=10, gamma=0.0001 ..............................................\n",
      "[CV] ..... C=10, gamma=0.0001, score=0.6613488034807832, total=   0.5s\n",
      "[CV] C=10, gamma=0.0001 ..............................................\n",
      "[CV] ...... C=10, gamma=0.0001, score=0.659173313995649, total=   0.4s\n",
      "[CV] C=10, gamma=0.001 ...............................................\n",
      "[CV] ...... C=10, gamma=0.001, score=0.6642547033285094, total=   0.4s\n",
      "[CV] C=10, gamma=0.001 ...............................................\n",
      "[CV] ...... C=10, gamma=0.001, score=0.6613488034807832, total=   0.4s\n",
      "[CV] C=10, gamma=0.001 ...............................................\n",
      "[CV] ....... C=10, gamma=0.001, score=0.659173313995649, total=   0.3s\n",
      "[CV] C=10, gamma=0.01 ................................................\n",
      "[CV] ....... C=10, gamma=0.01, score=0.6642547033285094, total=   0.4s\n",
      "[CV] C=10, gamma=0.01 ................................................\n",
      "[CV] ....... C=10, gamma=0.01, score=0.6613488034807832, total=   0.4s\n",
      "[CV] C=10, gamma=0.01 ................................................\n",
      "[CV] ........ C=10, gamma=0.01, score=0.659173313995649, total=   0.3s\n"
     ]
    },
    {
     "name": "stderr",
     "output_type": "stream",
     "text": [
      "[Parallel(n_jobs=1)]: Done  27 out of  27 | elapsed:   18.1s finished\n"
     ]
    },
    {
     "data": {
      "text/plain": [
       "GridSearchCV(cv='warn', error_score='raise-deprecating',\n",
       "       estimator=SVC(C=1.0, cache_size=200, class_weight=None, coef0=0.0,\n",
       "  decision_function_shape='ovr', degree=3, gamma='auto_deprecated',\n",
       "  kernel='linear', max_iter=-1, probability=False, random_state=None,\n",
       "  shrinking=True, tol=0.001, verbose=False),\n",
       "       fit_params=None, iid='warn', n_jobs=None,\n",
       "       param_grid={'C': [1, 5, 10], 'gamma': [0.0001, 0.001, 0.01]},\n",
       "       pre_dispatch='2*n_jobs', refit=True, return_train_score='warn',\n",
       "       scoring=None, verbose=3)"
      ]
     },
     "execution_count": 30,
     "metadata": {},
     "output_type": "execute_result"
    }
   ],
   "source": [
    "# Grid fit\n",
    "\n",
    "grid.fit(X_train_scaled, y_train)"
   ]
  },
  {
   "cell_type": "code",
   "execution_count": 31,
   "metadata": {
    "slideshow": {
     "slide_type": "skip"
    }
   },
   "outputs": [
    {
     "name": "stdout",
     "output_type": "stream",
     "text": [
      "{'C': 1, 'gamma': 0.0001}\n",
      "0.6618357487922706\n"
     ]
    }
   ],
   "source": [
    "# Grid results\n",
    "\n",
    "print(grid.best_params_)\n",
    "print(grid.best_score_)"
   ]
  },
  {
   "cell_type": "markdown",
   "metadata": {
    "slideshow": {
     "slide_type": "slide"
    }
   },
   "source": [
    "## SVM Results"
   ]
  },
  {
   "cell_type": "code",
   "execution_count": 32,
   "metadata": {
    "slideshow": {
     "slide_type": "subslide"
    }
   },
   "outputs": [
    {
     "data": {
      "text/html": [
       "<div>\n",
       "<style scoped>\n",
       "    .dataframe tbody tr th:only-of-type {\n",
       "        vertical-align: middle;\n",
       "    }\n",
       "\n",
       "    .dataframe tbody tr th {\n",
       "        vertical-align: top;\n",
       "    }\n",
       "\n",
       "    .dataframe thead th {\n",
       "        text-align: right;\n",
       "    }\n",
       "</style>\n",
       "<table border=\"1\" class=\"dataframe\">\n",
       "  <thead>\n",
       "    <tr style=\"text-align: right;\">\n",
       "      <th></th>\n",
       "      <th>Prediction</th>\n",
       "      <th>Actual</th>\n",
       "      <th>Correct</th>\n",
       "    </tr>\n",
       "  </thead>\n",
       "  <tbody>\n",
       "    <tr>\n",
       "      <th>0</th>\n",
       "      <td>1</td>\n",
       "      <td>0</td>\n",
       "      <td>False</td>\n",
       "    </tr>\n",
       "    <tr>\n",
       "      <th>1</th>\n",
       "      <td>0</td>\n",
       "      <td>1</td>\n",
       "      <td>False</td>\n",
       "    </tr>\n",
       "    <tr>\n",
       "      <th>2</th>\n",
       "      <td>0</td>\n",
       "      <td>0</td>\n",
       "      <td>True</td>\n",
       "    </tr>\n",
       "    <tr>\n",
       "      <th>3</th>\n",
       "      <td>1</td>\n",
       "      <td>1</td>\n",
       "      <td>True</td>\n",
       "    </tr>\n",
       "    <tr>\n",
       "      <th>4</th>\n",
       "      <td>0</td>\n",
       "      <td>0</td>\n",
       "      <td>True</td>\n",
       "    </tr>\n",
       "    <tr>\n",
       "      <th>5</th>\n",
       "      <td>1</td>\n",
       "      <td>1</td>\n",
       "      <td>True</td>\n",
       "    </tr>\n",
       "    <tr>\n",
       "      <th>6</th>\n",
       "      <td>1</td>\n",
       "      <td>0</td>\n",
       "      <td>False</td>\n",
       "    </tr>\n",
       "    <tr>\n",
       "      <th>7</th>\n",
       "      <td>0</td>\n",
       "      <td>1</td>\n",
       "      <td>False</td>\n",
       "    </tr>\n",
       "    <tr>\n",
       "      <th>8</th>\n",
       "      <td>1</td>\n",
       "      <td>1</td>\n",
       "      <td>True</td>\n",
       "    </tr>\n",
       "    <tr>\n",
       "      <th>9</th>\n",
       "      <td>0</td>\n",
       "      <td>0</td>\n",
       "      <td>True</td>\n",
       "    </tr>\n",
       "    <tr>\n",
       "      <th>10</th>\n",
       "      <td>0</td>\n",
       "      <td>0</td>\n",
       "      <td>True</td>\n",
       "    </tr>\n",
       "    <tr>\n",
       "      <th>11</th>\n",
       "      <td>1</td>\n",
       "      <td>1</td>\n",
       "      <td>True</td>\n",
       "    </tr>\n",
       "    <tr>\n",
       "      <th>12</th>\n",
       "      <td>0</td>\n",
       "      <td>1</td>\n",
       "      <td>False</td>\n",
       "    </tr>\n",
       "    <tr>\n",
       "      <th>13</th>\n",
       "      <td>1</td>\n",
       "      <td>0</td>\n",
       "      <td>False</td>\n",
       "    </tr>\n",
       "    <tr>\n",
       "      <th>14</th>\n",
       "      <td>0</td>\n",
       "      <td>0</td>\n",
       "      <td>True</td>\n",
       "    </tr>\n",
       "  </tbody>\n",
       "</table>\n",
       "</div>"
      ],
      "text/plain": [
       "    Prediction  Actual  Correct\n",
       "0            1       0    False\n",
       "1            0       1    False\n",
       "2            0       0     True\n",
       "3            1       1     True\n",
       "4            0       0     True\n",
       "5            1       1     True\n",
       "6            1       0    False\n",
       "7            0       1    False\n",
       "8            1       1     True\n",
       "9            0       0     True\n",
       "10           0       0     True\n",
       "11           1       1     True\n",
       "12           0       1    False\n",
       "13           1       0    False\n",
       "14           0       0     True"
      ]
     },
     "execution_count": 32,
     "metadata": {},
     "output_type": "execute_result"
    }
   ],
   "source": [
    "# accuracy dataframe\n",
    "\n",
    "svm_predictions = svm_model.predict(X_test_scaled)\n",
    "svm_accuracy = pd.DataFrame({\"Prediction\": list(svm_predictions), \"Actual\": y_test.ravel()}).reset_index(drop=True)\n",
    "svm_accuracy['Correct'] = svm_accuracy.Prediction == svm_accuracy.Actual\n",
    "svm_accuracy.head(15)"
   ]
  },
  {
   "cell_type": "code",
   "execution_count": 33,
   "metadata": {
    "slideshow": {
     "slide_type": "subslide"
    }
   },
   "outputs": [
    {
     "data": {
      "text/html": [
       "<div>\n",
       "<style scoped>\n",
       "    .dataframe tbody tr th:only-of-type {\n",
       "        vertical-align: middle;\n",
       "    }\n",
       "\n",
       "    .dataframe tbody tr th {\n",
       "        vertical-align: top;\n",
       "    }\n",
       "\n",
       "    .dataframe thead th {\n",
       "        text-align: right;\n",
       "    }\n",
       "</style>\n",
       "<table border=\"1\" class=\"dataframe\">\n",
       "  <thead>\n",
       "    <tr style=\"text-align: right;\">\n",
       "      <th></th>\n",
       "      <th>Win</th>\n",
       "      <th>Lose</th>\n",
       "      <th>Draw</th>\n",
       "    </tr>\n",
       "    <tr>\n",
       "      <th>Actual</th>\n",
       "      <th></th>\n",
       "      <th></th>\n",
       "      <th></th>\n",
       "    </tr>\n",
       "  </thead>\n",
       "  <tbody>\n",
       "    <tr>\n",
       "      <th>Win</th>\n",
       "      <td>337</td>\n",
       "      <td>163</td>\n",
       "      <td>0</td>\n",
       "    </tr>\n",
       "    <tr>\n",
       "      <th>Lose</th>\n",
       "      <td>162</td>\n",
       "      <td>338</td>\n",
       "      <td>0</td>\n",
       "    </tr>\n",
       "    <tr>\n",
       "      <th>Draw</th>\n",
       "      <td>2</td>\n",
       "      <td>2</td>\n",
       "      <td>0</td>\n",
       "    </tr>\n",
       "  </tbody>\n",
       "</table>\n",
       "</div>"
      ],
      "text/plain": [
       "        Win  Lose  Draw\n",
       "Actual                 \n",
       "Win     337   163     0\n",
       "Lose    162   338     0\n",
       "Draw      2     2     0"
      ]
     },
     "execution_count": 33,
     "metadata": {},
     "output_type": "execute_result"
    }
   ],
   "source": [
    "# Create confusion matrix dataframe\n",
    "svm_y_actu = pd.Series(y_test.ravel(), name='Actual')\n",
    "svm_y_pred = pd.Series(svm_predictions, name='Predicted')\n",
    "\n",
    "svm_df_confusion = pd.crosstab(svm_y_actu, svm_y_pred)\n",
    "svm_df_confusion.columns = ['Win', 'Lose']\n",
    "svm_df_confusion.rename(index={\n",
    "    svm_df_confusion.index[0]: 'Win',\n",
    "    svm_df_confusion.index[1]: 'Lose',\n",
    "    svm_df_confusion.index[2]: 'Draw'\n",
    "}, inplace=True)\n",
    "svm_df_confusion['Draw'] = 0\n",
    "svm_df_confusion"
   ]
  },
  {
   "cell_type": "code",
   "execution_count": 34,
   "metadata": {
    "slideshow": {
     "slide_type": "subslide"
    }
   },
   "outputs": [
    {
     "data": {
      "image/png": "[encoded data removed]",
      "text/plain": [
       "<Figure size 720x576 with 2 Axes>"
      ]
     },
     "metadata": {
      "needs_background": "light"
     },
     "output_type": "display_data"
    }
   ],
   "source": [
    "# Function call to generate SVM confusion matrix visualization\n",
    "fig = plt.figure(figsize = (10,8))\n",
    "prep_confusion_visual(svm_df_confusion, 111, svm_test_score, 'SVM')\n",
    "plt.show()"
   ]
  },
  {
   "cell_type": "markdown",
   "metadata": {
    "slideshow": {
     "slide_type": "slide"
    }
   },
   "source": [
    "# 5. Deep Learning"
   ]
  },
  {
   "cell_type": "markdown",
   "metadata": {
    "slideshow": {
     "slide_type": "subslide"
    }
   },
   "source": [
    "## -- Multiple layers of algorithms working to interpret data\n",
    "\n",
    "## -- Artificial neural networks\n",
    "\n",
    "## -- Typically works better with large datasets\n",
    "\n",
    "![alt text](Images/deep_learning_image.png \"Deep Learning Image\")"
   ]
  },
  {
   "cell_type": "code",
   "execution_count": 35,
   "metadata": {
    "slideshow": {
     "slide_type": "subslide"
    }
   },
   "outputs": [
    {
     "name": "stdout",
     "output_type": "stream",
     "text": [
      "WARNING:tensorflow:From C:\\Users\\stewa\\Anaconda3\\lib\\site-packages\\tensorflow\\python\\ops\\resource_variable_ops.py:435: colocate_with (from tensorflow.python.framework.ops) is deprecated and will be removed in a future version.\n",
      "Instructions for updating:\n",
      "Colocations handled automatically by placer.\n",
      "_________________________________________________________________\n",
      "Layer (type)                 Output Shape              Param #   \n",
      "=================================================================\n",
      "dense (Dense)                (None, 147)               7350      \n",
      "_________________________________________________________________\n",
      "dense_1 (Dense)              (None, 147)               21756     \n",
      "_________________________________________________________________\n",
      "dense_2 (Dense)              (None, 3)                 444       \n",
      "=================================================================\n",
      "Total params: 29,550\n",
      "Trainable params: 29,550\n",
      "Non-trainable params: 0\n",
      "_________________________________________________________________\n"
     ]
    }
   ],
   "source": [
    "# Create and summarize model\n",
    "# Use 147 nodes in each hidden unit (3x 49 columns of X data)\n",
    "\n",
    "import tensorflow as tf\n",
    "from tensorflow.keras.models import Sequential\n",
    "from tensorflow.keras.utils import to_categorical\n",
    "from tensorflow.keras.layers import Dense\n",
    "\n",
    "label_encoder = LabelEncoder()\n",
    "label_encoder.fit(y_train)\n",
    "encoded_y_train = label_encoder.transform(y_train)\n",
    "encoded_y_test = label_encoder.transform(y_test)\n",
    "\n",
    "y_train_categorical = to_categorical(encoded_y_train)\n",
    "y_test_categorical = to_categorical(encoded_y_test)\n",
    "\n",
    "deep_model = Sequential()\n",
    "deep_model.add(Dense(units=147, activation='relu', input_dim=len(X_train.columns)))\n",
    "deep_model.add(Dense(units=147, activation='relu'))\n",
    "deep_model.add(Dense(units=3, activation='softmax'))\n",
    "\n",
    "deep_model.compile(optimizer='adam',\n",
    "                    loss='categorical_crossentropy',\n",
    "                    metrics=['accuracy'])\n",
    "\n",
    "deep_model.summary()"
   ]
  },
  {
   "cell_type": "code",
   "execution_count": 36,
   "metadata": {
    "slideshow": {
     "slide_type": "skip"
    }
   },
   "outputs": [],
   "source": [
    "# label_encoder = LabelEncoder()\n",
    "# label_encoder.fit(y_train)\n",
    "# encoded_y_train = label_encoder.transform(y_train)\n",
    "# encoded_y_test = label_encoder.transform(y_test)\n",
    "\n",
    "# y_train_categorical = to_categorical(encoded_y_train)\n",
    "# y_test_categorical = to_categorical(encoded_y_test)"
   ]
  },
  {
   "cell_type": "code",
   "execution_count": 37,
   "metadata": {
    "slideshow": {
     "slide_type": "subslide"
    }
   },
   "outputs": [
    {
     "name": "stdout",
     "output_type": "stream",
     "text": [
      "WARNING:tensorflow:From C:\\Users\\stewa\\Anaconda3\\lib\\site-packages\\tensorflow\\python\\ops\\math_ops.py:3066: to_int32 (from tensorflow.python.ops.math_ops) is deprecated and will be removed in a future version.\n",
      "Instructions for updating:\n",
      "Use tf.cast instead.\n",
      "Epoch 1/60\n",
      " - 1s - loss: 0.6700 - acc: 0.6500\n",
      "Epoch 2/60\n",
      " - 0s - loss: 0.6438 - acc: 0.6614\n",
      "Epoch 3/60\n",
      " - 0s - loss: 0.6417 - acc: 0.6618\n",
      "Epoch 4/60\n",
      " - 0s - loss: 0.6321 - acc: 0.6671\n",
      "Epoch 5/60\n",
      " - 0s - loss: 0.6281 - acc: 0.6729\n",
      "Epoch 6/60\n",
      " - 0s - loss: 0.6228 - acc: 0.6751\n",
      "Epoch 7/60\n",
      " - 0s - loss: 0.6194 - acc: 0.6792\n",
      "Epoch 8/60\n",
      " - 0s - loss: 0.6105 - acc: 0.6857\n",
      "Epoch 9/60\n",
      " - 0s - loss: 0.6087 - acc: 0.6780\n",
      "Epoch 10/60\n",
      " - 0s - loss: 0.6030 - acc: 0.6877\n",
      "Epoch 11/60\n",
      " - 0s - loss: 0.5966 - acc: 0.6954\n",
      "Epoch 12/60\n",
      " - 0s - loss: 0.5896 - acc: 0.6976\n",
      "Epoch 13/60\n",
      " - 0s - loss: 0.5863 - acc: 0.7014\n",
      "Epoch 14/60\n",
      " - 0s - loss: 0.5784 - acc: 0.7060\n",
      "Epoch 15/60\n",
      " - 0s - loss: 0.5721 - acc: 0.7138\n",
      "Epoch 16/60\n",
      " - 0s - loss: 0.5709 - acc: 0.7056\n",
      "Epoch 17/60\n",
      " - 0s - loss: 0.5663 - acc: 0.7087\n",
      "Epoch 18/60\n",
      " - 0s - loss: 0.5596 - acc: 0.7179\n",
      "Epoch 19/60\n",
      " - 0s - loss: 0.5566 - acc: 0.7138\n",
      "Epoch 20/60\n",
      " - 0s - loss: 0.5492 - acc: 0.7217\n",
      "Epoch 21/60\n",
      " - 0s - loss: 0.5441 - acc: 0.7273\n",
      "Epoch 22/60\n",
      " - 0s - loss: 0.5390 - acc: 0.7283\n",
      "Epoch 23/60\n",
      " - 0s - loss: 0.5344 - acc: 0.7295\n",
      "Epoch 24/60\n",
      " - 0s - loss: 0.5331 - acc: 0.7333\n",
      "Epoch 25/60\n",
      " - 0s - loss: 0.5251 - acc: 0.7384\n",
      "Epoch 26/60\n",
      " - 0s - loss: 0.5231 - acc: 0.7345\n",
      "Epoch 27/60\n",
      " - 0s - loss: 0.5239 - acc: 0.7341\n",
      "Epoch 28/60\n",
      " - 0s - loss: 0.5120 - acc: 0.7408\n",
      "Epoch 29/60\n",
      " - 0s - loss: 0.5106 - acc: 0.7406\n",
      "Epoch 30/60\n",
      " - 0s - loss: 0.5045 - acc: 0.7464\n",
      "Epoch 31/60\n",
      " - 0s - loss: 0.5019 - acc: 0.7444\n",
      "Epoch 32/60\n",
      " - 0s - loss: 0.4972 - acc: 0.7529\n",
      "Epoch 33/60\n",
      " - 0s - loss: 0.4937 - acc: 0.7568\n",
      "Epoch 34/60\n",
      " - 0s - loss: 0.4909 - acc: 0.7575\n",
      "Epoch 35/60\n",
      " - 0s - loss: 0.4861 - acc: 0.7604\n",
      "Epoch 36/60\n",
      " - 0s - loss: 0.4886 - acc: 0.7572\n",
      "Epoch 37/60\n",
      " - 0s - loss: 0.4795 - acc: 0.7589\n",
      "Epoch 38/60\n",
      " - 0s - loss: 0.4824 - acc: 0.7563\n",
      "Epoch 39/60\n",
      " - 0s - loss: 0.4753 - acc: 0.7633\n",
      "Epoch 40/60\n",
      " - 0s - loss: 0.4694 - acc: 0.7659\n",
      "Epoch 41/60\n",
      " - 0s - loss: 0.4661 - acc: 0.7645\n",
      "Epoch 42/60\n",
      " - 0s - loss: 0.4659 - acc: 0.7650\n",
      "Epoch 43/60\n",
      " - 0s - loss: 0.4613 - acc: 0.7669\n",
      "Epoch 44/60\n",
      " - 0s - loss: 0.4563 - acc: 0.7758\n",
      "Epoch 45/60\n",
      " - 0s - loss: 0.4578 - acc: 0.7722\n",
      "Epoch 46/60\n",
      " - 0s - loss: 0.4542 - acc: 0.7780\n",
      "Epoch 47/60\n",
      " - 0s - loss: 0.4472 - acc: 0.7761\n",
      "Epoch 48/60\n",
      " - 0s - loss: 0.4428 - acc: 0.7749\n",
      "Epoch 49/60\n",
      " - 0s - loss: 0.4432 - acc: 0.7768\n",
      "Epoch 50/60\n",
      " - 0s - loss: 0.4339 - acc: 0.7838\n",
      "Epoch 51/60\n",
      " - 0s - loss: 0.4331 - acc: 0.7857\n",
      "Epoch 52/60\n",
      " - 0s - loss: 0.4324 - acc: 0.7814\n",
      "Epoch 53/60\n",
      " - 0s - loss: 0.4316 - acc: 0.7870\n",
      "Epoch 54/60\n",
      " - 0s - loss: 0.4274 - acc: 0.7882\n",
      "Epoch 55/60\n",
      " - 0s - loss: 0.4227 - acc: 0.7949\n",
      "Epoch 56/60\n",
      " - 0s - loss: 0.4214 - acc: 0.7937\n",
      "Epoch 57/60\n",
      " - 0s - loss: 0.4191 - acc: 0.7908\n",
      "Epoch 58/60\n",
      " - 0s - loss: 0.4160 - acc: 0.7935\n",
      "Epoch 59/60\n",
      " - 0s - loss: 0.4147 - acc: 0.7969\n",
      "Epoch 60/60\n",
      " - 0s - loss: 0.4107 - acc: 0.7971\n"
     ]
    },
    {
     "data": {
      "text/plain": [
       "<tensorflow.python.keras.callbacks.History at 0x1836fdbdeb8>"
      ]
     },
     "execution_count": 37,
     "metadata": {},
     "output_type": "execute_result"
    }
   ],
   "source": [
    "# Fit\n",
    "\n",
    "deep_model.fit(\n",
    "    X_train_scaled,\n",
    "    y_train_categorical,\n",
    "    epochs=60,\n",
    "    shuffle=True,\n",
    "    verbose=2\n",
    ")"
   ]
  },
  {
   "cell_type": "code",
   "execution_count": 38,
   "metadata": {
    "code_folding": [],
    "slideshow": {
     "slide_type": "skip"
    }
   },
   "outputs": [
    {
     "name": "stdout",
     "output_type": "stream",
     "text": [
      " - 0s - loss: 1.0971 - acc: 0.6275\n",
      "\n",
      "    Deep Neural Network\n",
      "    Loss: 1.0970730620076456\n",
      "    Accuracy: 0.6274900436401367\n",
      "    \n"
     ]
    }
   ],
   "source": [
    "# Score\n",
    "\n",
    "deep_model_loss, deep_model_accuracy = deep_model.evaluate(\n",
    "    X_test_scaled, y_test_categorical, verbose = 2)\n",
    "\n",
    "print(\n",
    "    f'''\n",
    "    Deep Neural Network\n",
    "    Loss: {deep_model_loss}\n",
    "    Accuracy: {deep_model_accuracy}\n",
    "    '''\n",
    ")"
   ]
  },
  {
   "cell_type": "markdown",
   "metadata": {
    "slideshow": {
     "slide_type": "slide"
    }
   },
   "source": [
    "## Deep Learning Results"
   ]
  },
  {
   "cell_type": "code",
   "execution_count": 39,
   "metadata": {
    "slideshow": {
     "slide_type": "subslide"
    }
   },
   "outputs": [
    {
     "data": {
      "text/html": [
       "<div>\n",
       "<style scoped>\n",
       "    .dataframe tbody tr th:only-of-type {\n",
       "        vertical-align: middle;\n",
       "    }\n",
       "\n",
       "    .dataframe tbody tr th {\n",
       "        vertical-align: top;\n",
       "    }\n",
       "\n",
       "    .dataframe thead th {\n",
       "        text-align: right;\n",
       "    }\n",
       "</style>\n",
       "<table border=\"1\" class=\"dataframe\">\n",
       "  <thead>\n",
       "    <tr style=\"text-align: right;\">\n",
       "      <th></th>\n",
       "      <th>Prediction</th>\n",
       "      <th>Actual</th>\n",
       "      <th>Correct</th>\n",
       "    </tr>\n",
       "  </thead>\n",
       "  <tbody>\n",
       "    <tr>\n",
       "      <th>0</th>\n",
       "      <td>1</td>\n",
       "      <td>0</td>\n",
       "      <td>False</td>\n",
       "    </tr>\n",
       "    <tr>\n",
       "      <th>1</th>\n",
       "      <td>0</td>\n",
       "      <td>1</td>\n",
       "      <td>False</td>\n",
       "    </tr>\n",
       "    <tr>\n",
       "      <th>2</th>\n",
       "      <td>0</td>\n",
       "      <td>0</td>\n",
       "      <td>True</td>\n",
       "    </tr>\n",
       "    <tr>\n",
       "      <th>3</th>\n",
       "      <td>1</td>\n",
       "      <td>1</td>\n",
       "      <td>True</td>\n",
       "    </tr>\n",
       "    <tr>\n",
       "      <th>4</th>\n",
       "      <td>0</td>\n",
       "      <td>0</td>\n",
       "      <td>True</td>\n",
       "    </tr>\n",
       "    <tr>\n",
       "      <th>5</th>\n",
       "      <td>1</td>\n",
       "      <td>1</td>\n",
       "      <td>True</td>\n",
       "    </tr>\n",
       "    <tr>\n",
       "      <th>6</th>\n",
       "      <td>1</td>\n",
       "      <td>0</td>\n",
       "      <td>False</td>\n",
       "    </tr>\n",
       "    <tr>\n",
       "      <th>7</th>\n",
       "      <td>1</td>\n",
       "      <td>1</td>\n",
       "      <td>True</td>\n",
       "    </tr>\n",
       "    <tr>\n",
       "      <th>8</th>\n",
       "      <td>1</td>\n",
       "      <td>1</td>\n",
       "      <td>True</td>\n",
       "    </tr>\n",
       "    <tr>\n",
       "      <th>9</th>\n",
       "      <td>0</td>\n",
       "      <td>0</td>\n",
       "      <td>True</td>\n",
       "    </tr>\n",
       "    <tr>\n",
       "      <th>10</th>\n",
       "      <td>1</td>\n",
       "      <td>0</td>\n",
       "      <td>False</td>\n",
       "    </tr>\n",
       "    <tr>\n",
       "      <th>11</th>\n",
       "      <td>1</td>\n",
       "      <td>1</td>\n",
       "      <td>True</td>\n",
       "    </tr>\n",
       "    <tr>\n",
       "      <th>12</th>\n",
       "      <td>0</td>\n",
       "      <td>1</td>\n",
       "      <td>False</td>\n",
       "    </tr>\n",
       "    <tr>\n",
       "      <th>13</th>\n",
       "      <td>1</td>\n",
       "      <td>0</td>\n",
       "      <td>False</td>\n",
       "    </tr>\n",
       "    <tr>\n",
       "      <th>14</th>\n",
       "      <td>0</td>\n",
       "      <td>0</td>\n",
       "      <td>True</td>\n",
       "    </tr>\n",
       "  </tbody>\n",
       "</table>\n",
       "</div>"
      ],
      "text/plain": [
       "    Prediction  Actual  Correct\n",
       "0            1       0    False\n",
       "1            0       1    False\n",
       "2            0       0     True\n",
       "3            1       1     True\n",
       "4            0       0     True\n",
       "5            1       1     True\n",
       "6            1       0    False\n",
       "7            1       1     True\n",
       "8            1       1     True\n",
       "9            0       0     True\n",
       "10           1       0    False\n",
       "11           1       1     True\n",
       "12           0       1    False\n",
       "13           1       0    False\n",
       "14           0       0     True"
      ]
     },
     "execution_count": 39,
     "metadata": {},
     "output_type": "execute_result"
    }
   ],
   "source": [
    "# Create accuracy dataframe\n",
    "encoded_prediction = deep_model.predict_classes(X_test_scaled)\n",
    "deep_predictions = label_encoder.inverse_transform(encoded_prediction)\n",
    "\n",
    "deep_accuracy = pd.DataFrame({\"Prediction\": list(deep_predictions), \"Actual\": y_test.ravel()}).reset_index(drop=True)\n",
    "deep_accuracy['Correct'] = deep_accuracy.Prediction == deep_accuracy.Actual\n",
    "deep_accuracy.head(15)"
   ]
  },
  {
   "cell_type": "code",
   "execution_count": 42,
   "metadata": {
    "slideshow": {
     "slide_type": "subslide"
    }
   },
   "outputs": [
    {
     "data": {
      "text/html": [
       "<div>\n",
       "<style scoped>\n",
       "    .dataframe tbody tr th:only-of-type {\n",
       "        vertical-align: middle;\n",
       "    }\n",
       "\n",
       "    .dataframe tbody tr th {\n",
       "        vertical-align: top;\n",
       "    }\n",
       "\n",
       "    .dataframe thead th {\n",
       "        text-align: right;\n",
       "    }\n",
       "</style>\n",
       "<table border=\"1\" class=\"dataframe\">\n",
       "  <thead>\n",
       "    <tr style=\"text-align: right;\">\n",
       "      <th></th>\n",
       "      <th>Win</th>\n",
       "      <th>Lose</th>\n",
       "      <th>Draw</th>\n",
       "    </tr>\n",
       "    <tr>\n",
       "      <th>Actual</th>\n",
       "      <th></th>\n",
       "      <th></th>\n",
       "      <th></th>\n",
       "    </tr>\n",
       "  </thead>\n",
       "  <tbody>\n",
       "    <tr>\n",
       "      <th>Win</th>\n",
       "      <td>294</td>\n",
       "      <td>206</td>\n",
       "      <td>0</td>\n",
       "    </tr>\n",
       "    <tr>\n",
       "      <th>Lose</th>\n",
       "      <td>164</td>\n",
       "      <td>336</td>\n",
       "      <td>0</td>\n",
       "    </tr>\n",
       "    <tr>\n",
       "      <th>Draw</th>\n",
       "      <td>1</td>\n",
       "      <td>3</td>\n",
       "      <td>0</td>\n",
       "    </tr>\n",
       "  </tbody>\n",
       "</table>\n",
       "</div>"
      ],
      "text/plain": [
       "        Win  Lose  Draw\n",
       "Actual                 \n",
       "Win     294   206     0\n",
       "Lose    164   336     0\n",
       "Draw      1     3     0"
      ]
     },
     "execution_count": 42,
     "metadata": {},
     "output_type": "execute_result"
    }
   ],
   "source": [
    "deep_y_actu = pd.Series(y_test.ravel(), name='Actual')\n",
    "deep_y_pred = pd.Series(deep_predictions, name='Predicted')\n",
    "deep_df_confusion = pd.crosstab(deep_y_actu, deep_y_pred)\n",
    "\n",
    "deep_df_confusion.columns = ['Win', 'Lose']\n",
    "\n",
    "deep_df_confusion.rename(index={\n",
    "    deep_df_confusion.index[0]: 'Win',\n",
    "    deep_df_confusion.index[1]: 'Lose',\n",
    "    deep_df_confusion.index[2]: 'Draw'\n",
    "}, inplace=True)\n",
    "\n",
    "deep_df_confusion['Draw'] = 0\n",
    "\n",
    "deep_df_confusion"
   ]
  },
  {
   "cell_type": "code",
   "execution_count": 43,
   "metadata": {
    "slideshow": {
     "slide_type": "subslide"
    }
   },
   "outputs": [
    {
     "data": {
      "image/png": "[encoded data removed]",
      "text/plain": [
       "<Figure size 720x576 with 2 Axes>"
      ]
     },
     "metadata": {
      "needs_background": "light"
     },
     "output_type": "display_data"
    }
   ],
   "source": [
    "fig = plt.figure(figsize = (10,8))\n",
    "prep_confusion_visual(deep_df_confusion, 111, deep_model_accuracy, 'Deep Learning')\n",
    "plt.show()"
   ]
  },
  {
   "cell_type": "markdown",
   "metadata": {
    "slideshow": {
     "slide_type": "slide"
    }
   },
   "source": [
    "# 6. Conclusion"
   ]
  },
  {
   "cell_type": "code",
   "execution_count": 44,
   "metadata": {
    "slideshow": {
     "slide_type": "subslide"
    }
   },
   "outputs": [
    {
     "data": {
      "image/png": "[encoded data removed]",
      "text/plain": [
       "<Figure size 1296x576 with 6 Axes>"
      ]
     },
     "metadata": {
      "needs_background": "light"
     },
     "output_type": "display_data"
    }
   ],
   "source": [
    "fig = plt.figure(figsize = (18,8))\n",
    "prep_confusion_visual(logistic_df_confusion, 131, logistic_test_score, 'Logistic Regression')\n",
    "prep_confusion_visual(svm_df_confusion, 132, svm_test_score, 'SVM')\n",
    "prep_confusion_visual(deep_df_confusion, 133, deep_model_accuracy, 'Deep Learning')\n",
    "plt.subplots_adjust(right=1.1, top=0.8)\n",
    "plt.suptitle('Vegas Benchmark: 66.02%', fontweight = 'bold', fontsize = 22)\n",
    "plt.show()"
   ]
  },
  {
   "cell_type": "markdown",
   "metadata": {
    "slideshow": {
     "slide_type": "slide"
    }
   },
   "source": [
    "# Questions"
   ]
  }
 ],
 "metadata": {
  "celltoolbar": "Slideshow",
  "hide_input": false,
  "kernelspec": {
   "display_name": "Python 3",
   "language": "python",
   "name": "python3"
  },
  "language_info": {
   "codemirror_mode": {
    "name": "ipython",
    "version": 3
   },
   "file_extension": ".py",
   "mimetype": "text/x-python",
   "name": "python",
   "nbconvert_exporter": "python",
   "pygments_lexer": "ipython3",
   "version": "3.7.1"
  },
  "toc": {
   "base_numbering": 1,
   "nav_menu": {},
   "number_sections": true,
   "sideBar": true,
   "skip_h1_title": false,
   "title_cell": "Table of Contents",
   "title_sidebar": "Contents",
   "toc_cell": false,
   "toc_position": {},
   "toc_section_display": true,
   "toc_window_display": false
  },
  "varInspector": {
   "cols": {
    "lenName": 16,
    "lenType": 16,
    "lenVar": 40
   },
   "kernels_config": {
    "python": {
     "delete_cmd_postfix": "",
     "delete_cmd_prefix": "del ",
     "library": "var_list.py",
     "varRefreshCmd": "print(var_dic_list())"
    },
    "r": {
     "delete_cmd_postfix": ") ",
     "delete_cmd_prefix": "rm(",
     "library": "var_list.r",
     "varRefreshCmd": "cat(var_dic_list()) "
    }
   },
   "types_to_exclude": [
    "module",
    "function",
    "builtin_function_or_method",
    "instance",
    "_Feature"
   ],
   "window_display": false
  }
 },
 "nbformat": 4,
 "nbformat_minor": 2
}
